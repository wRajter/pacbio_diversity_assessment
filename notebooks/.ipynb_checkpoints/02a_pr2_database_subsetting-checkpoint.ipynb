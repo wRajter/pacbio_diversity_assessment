{
 "cells": [
  {
   "cell_type": "markdown",
   "id": "fe7637cc",
   "metadata": {},
   "source": [
    "## Libraries"
   ]
  },
  {
   "cell_type": "code",
   "execution_count": 1,
   "id": "14800a36",
   "metadata": {},
   "outputs": [],
   "source": [
    "import os\n",
    "import shutil\n",
    "import sys\n",
    "import pandas\n",
    "import matplotlib.pyplot as plt\n",
    "import seaborn as sns\n",
    "import subprocess\n",
    "import re\n",
    "import math\n",
    "from Bio import SeqIO\n",
    "\n",
    "# Custom functions\n",
    "python_dir_path = os.path.join('..', 'scripts', 'python')\n",
    "sys.path.append(python_dir_path)\n",
    "from subset_pr2_database import subset_sequences_by_taxon, run_mafft, alignment_stats, creating_df_from_alignment, subset_fasta_based_on_dataframe, run_gblocks, run_gblocks_grid_search, move_search_grid_files\n",
    "from toolbox import num_seqs"
   ]
  },
  {
   "cell_type": "markdown",
   "id": "548eefb4",
   "metadata": {},
   "source": [
    "## Variables"
   ]
  },
  {
   "cell_type": "code",
   "execution_count": 2,
   "id": "5ef55fd3",
   "metadata": {},
   "outputs": [],
   "source": [
    "project = 'Suthaus_2022'\n",
    "marker = 'Full18S'\n",
    "sim = 'sim90'\n",
    "denoise_method = 'RAD'\n",
    "raw_data = os.path.join('..', 'raw_data')\n",
    "ref_align_dir = os.path.join(raw_data, 'reference_alignments', 'pr2')\n",
    "subset_align_dir = os.path.join(raw_data, 'reference_alignments', 'pr2_subset')\n",
    "pr2 = os.path.join(raw_data, ref_align_dir, 'pr2_version_5.0.0_SSU_UTAX.fasta')"
   ]
  },
  {
   "cell_type": "markdown",
   "id": "6c7a6eb7",
   "metadata": {},
   "source": [
    "# Keeping only nuclear eukaryotic sequences from the PR2 sequence database"
   ]
  },
  {
   "cell_type": "code",
   "execution_count": null,
   "id": "f6165d51",
   "metadata": {},
   "outputs": [],
   "source": [
    "# Checking the PR2 taxonomy file to find out what taxa are included in the alignment\n",
    "alignment_path = os.path.join(ref_align_dir, 'pr2_version_5.0.0_SSU_UTAX.fasta')\n",
    "\n",
    "df = creating_df_from_alignment(alignment_path = alignment_path)"
   ]
  },
  {
   "cell_type": "code",
   "execution_count": null,
   "id": "31351946",
   "metadata": {
    "scrolled": true
   },
   "outputs": [],
   "source": [
    "df.head(5)"
   ]
  },
  {
   "cell_type": "code",
   "execution_count": null,
   "id": "092b5241",
   "metadata": {
    "scrolled": true
   },
   "outputs": [],
   "source": [
    "df['kingdom'].unique()"
   ]
  },
  {
   "cell_type": "markdown",
   "id": "7922bd57",
   "metadata": {},
   "source": [
    "We can see there are Bacteria and Archaea as two distinct domains of prokaryotes. Given that our interest is in **eukaryotic sequences**, I want to filter these out.\n",
    "Also there are sequences from different organelles:\n",
    "- **nucleus**: This represents sequences from the main cellular DNA in the nucleus of eukaryotes.\n",
    "- **nucleomorph:nucl**: Nucleomorphs are the remnant nuclei of eukaryotic algae that were engulfed by other eukaryotes.\n",
    "- **plastid:plas**: Plastids are the family of organelles in plant cells that includes chloroplasts.\n",
    "- **apicoplast:apic**: Apicoplasts are a type of plastid found in Apicomplexa, the parasitic protozoans.\n",
    "- **chromatophore:chrom**: Chromatophores are pigment-containing organelles observed in some bacteria and other organisms.\n",
    "- **mitochondrion:mito**: Mitochondria are the energy-producing organelles in eukaryotic cells.\n",
    "\n",
    "But our main interest lies in nuclear eukaryotic sequences, so we can filter the dataframe to retain only those rows where the kingdom column value is **'Eukaryota'**."
   ]
  },
  {
   "cell_type": "code",
   "execution_count": null,
   "id": "38a738c8",
   "metadata": {},
   "outputs": [],
   "source": [
    "# Filter dataframe to retain only nuclear eukaryotic sequences\n",
    "df_eukaryota_nuclear = df[df['kingdom'] == 'Eukaryota']"
   ]
  },
  {
   "cell_type": "code",
   "execution_count": null,
   "id": "b7130401",
   "metadata": {},
   "outputs": [],
   "source": [
    "print(f'''\n",
    "Length of original df: {len(df)}\n",
    "Length of filtered df: {len(df_eukaryota_nuclear)}\n",
    "''')"
   ]
  },
  {
   "cell_type": "code",
   "execution_count": null,
   "id": "6ec3bb12",
   "metadata": {},
   "outputs": [],
   "source": [
    "# Filter the original PR2 dataframe keeping only nuclear eukaryotic sequences (pr2_version_5.0.0_SSU_UTAX_euknucl.fasta)\n",
    "fasta_path = pr2\n",
    "output_file = os.path.join(subset_align_dir, 'pr2_version_5.0.0_SSU_UTAX_euknucl.fasta')\n",
    "\n",
    "\n",
    "subset_fasta_based_on_dataframe(fasta_path = fasta_path,\n",
    "                                output_path = output_file,\n",
    "                                dataframe = df_eukaryota_nuclear)"
   ]
  },
  {
   "cell_type": "markdown",
   "id": "4e5732bc",
   "metadata": {},
   "source": [
    "# Subsetting PR2 alignment"
   ]
  },
  {
   "cell_type": "markdown",
   "id": "28e4e9a7",
   "metadata": {},
   "source": [
    "PR2 dataset is still way too big for our purposes - to check the overall phylogenetic diversity of our query sequences. Therefore, we will subset the PR2 database (this will also reduce computational load), but we will keep the taxonomic diversity/balance.\n",
    "\n",
    "So, we will keep a maximum of limited occurrences per taxonomic level (e.g. max 3 occurrences per genus) to retain diversity while significantly reducing the size of the alignment."
   ]
  },
  {
   "cell_type": "code",
   "execution_count": null,
   "id": "1bbb4912",
   "metadata": {},
   "outputs": [],
   "source": [
    "# Define your parameters\n",
    "input_file = os.path.join(subset_align_dir, 'pr2_version_5.0.0_SSU_UTAX_euknucl.fasta')\n",
    "output_file = os.path.join(subset_align_dir, 'pr2_version_5.0.0_SSU_UTAX_euknucl_subset.fasta')\n",
    "\n",
    "# Use the subsetting function\n",
    "subset_sequences_by_taxon(input_file_path = input_file, \n",
    "                          output_file_path = output_file, \n",
    "                          tax_level = 'f', # Subset based on the family taxonomic level\n",
    "                          limit = 1, # Keep only 1 occurance of a unique family\n",
    "                          min_length = 1500,\n",
    "                          max_length = 2000, # Filter out sequences longer than 3000 bp\n",
    "                          log_file = 'pr2_version_5.0.0_SSU_UTAX_euknucl_subset.log') # Name of the log file"
   ]
  },
  {
   "cell_type": "code",
   "execution_count": null,
   "id": "ad4da06d",
   "metadata": {},
   "outputs": [],
   "source": [
    "# Check the length distribution of the sequences in our subsetted fasta file\n",
    "\n",
    "# Read in the sequences\n",
    "file_path = os.path.join(subset_align_dir, 'pr2_version_5.0.0_SSU_UTAX_euknucl_subset.fasta')\n",
    "sequences = list(SeqIO.parse(file_path, \"fasta\"))\n",
    "\n",
    "# Get the lengths of the sequences\n",
    "lengths = [len(seq.seq) for seq in sequences]\n",
    "\n",
    "# Plotting\n",
    "\n",
    "# Using a style for better aesthetics\n",
    "plt.style.use('seaborn-darkgrid')\n",
    "\n",
    "# Create a new figure with specified size\n",
    "plt.figure(figsize=(12, 8))\n",
    "\n",
    "# Plotting\n",
    "plt.hist(lengths, bins=50, color='steelblue', alpha=0.7, edgecolor='black')\n",
    "plt.title(\"Sequence Length Distribution\", fontsize=16)\n",
    "plt.xlabel(\"Sequence Length\", fontsize=14)\n",
    "plt.ylabel(\"Number of Sequences\", fontsize=14)\n",
    "plt.xticks(fontsize=12)\n",
    "plt.yticks(fontsize=12)\n",
    "plt.tight_layout()\n",
    "\n",
    "plt.show()"
   ]
  },
  {
   "cell_type": "markdown",
   "id": "76039140",
   "metadata": {},
   "source": [
    " # MAFFT Aligning"
   ]
  },
  {
   "cell_type": "markdown",
   "id": "fb07ef84",
   "metadata": {},
   "source": [
    "Given the diversity and size of our dataset (around 1,600 sequences of 18S rRNA), we would benefit from some level of iterative refinement, so FFT-NS-2 might be a good choice, as FFT-NS-2 is mostly used for moderately large datasets.\n",
    "\n",
    "\n",
    "**FFT-NS-2:**\n",
    "- **Speed:** It's faster than most iterative methods but slower than FFT-NS-1.\n",
    "- **Method:** After creating the initial progressive alignment, it conducts tree-dependent iterative refinement for the final alignment. This means it tries to make the alignment more accurate by optimizing it against a guide tree.\n",
    "- **Usage Scenario:** Provides a balance between speed and accuracy. It's useful when you need a relatively quick alignment, but you want it to be more accurate than what FFT-NS-1 would provide."
   ]
  },
  {
   "cell_type": "code",
   "execution_count": null,
   "id": "51ff9583",
   "metadata": {},
   "outputs": [],
   "source": [
    "# Run MAFFT alignment on the input file using the FFT-NS-2 strategy.\n",
    "\n",
    "# Output and input paths\n",
    "input_file_path = os.path.join(subset_align_dir, 'pr2_version_5.0.0_SSU_UTAX_euknucl_subset.fasta')\n",
    "output_file_path = os.path.join(subset_align_dir, 'pr2_version_5.0.0_SSU_UTAX_euknucl_subset_mafft.fasta')\n",
    "log_file_path =  os.path.join(subset_align_dir, 'pr2_version_5.0.0_SSU_UTAX_euknucl_subset_mafft.log')\n",
    "\n",
    "# Run MAFFT\n",
    "run_mafft(input_file = input_file_path, \n",
    "          output_file = output_file_path, \n",
    "          log_file = log_file_path)"
   ]
  },
  {
   "cell_type": "code",
   "execution_count": 3,
   "id": "9c12c03a",
   "metadata": {},
   "outputs": [
    {
     "name": "stdout",
     "output_type": "stream",
     "text": [
      "Number of sequences: 1371\n",
      "Alignment length: 11943\n",
      "Average number of gaps per sequence: 10217.93\n",
      "Percentage of gaps across the sequences: 85.56%\n",
      "Average percentage identity: 94.98%\n"
     ]
    }
   ],
   "source": [
    "# Checking some basic statistics about our MAFFT alignment\n",
    "mafft_alignment = os.path.join(subset_align_dir, 'pr2_version_5.0.0_SSU_UTAX_euknucl_subset_mafft.fasta')\n",
    "\n",
    "num_sequences, alignment_length, average_gaps, percentage_gaps, percentage_identity = alignment_stats(alignment_file = mafft_alignment)\n",
    "print(f\"Number of sequences: {num_sequences}\")\n",
    "print(f\"Alignment length: {alignment_length}\")\n",
    "print(f\"Average number of gaps per sequence: {average_gaps:.2f}\")\n",
    "print(f\"Percentage of gaps across the sequences: {percentage_gaps:.2f}%\")\n",
    "print(f\"Average percentage identity: {percentage_identity:.2f}%\")"
   ]
  },
  {
   "cell_type": "markdown",
   "id": "7d24e659-5221-4dc6-bd8c-8d5309df2fdc",
   "metadata": {},
   "source": [
    "# Extracting and trimming the sequence names from the alignment"
   ]
  },
  {
   "cell_type": "markdown",
   "id": "29265aca-288b-4917-9659-824fe4d50ee7",
   "metadata": {},
   "source": [
    "As for GBLOCKS the current sequence names are too long, so we can trim them before we go further. We can trim the taxopath and keeping the ID. Also, we can keep the taxapath in the separate file (sequence_full_names.txt) as we will need the taxopath later during the phylogenetic placement."
   ]
  },
  {
   "cell_type": "markdown",
   "id": "8f6b3e0b-ff65-4d78-af48-fe80490d75dd",
   "metadata": {},
   "source": [
    "## Extracting the full sequence names from the MAFFT alignment"
   ]
  },
  {
   "cell_type": "code",
   "execution_count": null,
   "id": "08b9770c-24aa-48ca-a67c-07bc4415e138",
   "metadata": {},
   "outputs": [],
   "source": [
    "input_file = os.path.join(subset_align_dir, 'pr2_version_5.0.0_SSU_UTAX_euknucl_subset_mafft.fasta')\n",
    "output_file = os.path.join(subset_align_dir, 'sequence_full_names.txt')\n",
    "\n",
    "# Open the input file for reading and output file for writing\n",
    "with open(input_file, 'r') as infile, open(output_file, 'w') as outfile:\n",
    "    # Read through each line in the input file\n",
    "    for line in infile:\n",
    "        # If the line starts with '>', it's a header line\n",
    "        if line.startswith('>'):\n",
    "            # Write the line to the output file, excluding the '>' and trimming whitespace\n",
    "            outfile.write(line[1:].strip() + '\\n')  # write the id without '>' and add a newline"
   ]
  },
  {
   "cell_type": "markdown",
   "id": "c6bbda38-cceb-46a8-b4b3-689906de32a9",
   "metadata": {},
   "source": [
    "## Trimming the names in the MAFFT alignment"
   ]
  },
  {
   "cell_type": "code",
   "execution_count": null,
   "id": "b44e25cc-e452-49dd-b6b3-70bcd044f58a",
   "metadata": {},
   "outputs": [],
   "source": [
    "input_file = os.path.join(subset_align_dir, 'pr2_version_5.0.0_SSU_UTAX_euknucl_subset_mafft.fasta')\n",
    "output_file = os.path.join(subset_align_dir, 'pr2_version_5.0.0_SSU_UTAX_euknucl_subset_mafft_shortnames.fasta')\n",
    "\n",
    "# Open the input file, parse sequences, modify IDs, and write to output file\n",
    "with open(input_file, 'r') as infile, open(output_file, 'w') as outfile:\n",
    "    # Iterate over each record in the input file\n",
    "    for record in SeqIO.parse(infile, \"fasta\"):\n",
    "        # Split the ID at the '.' character and keep only the first part\n",
    "        new_id = record.id.split(';tax=')[0]\n",
    "        # Update the record's ID with the new ID\n",
    "        record.id = new_id\n",
    "        record.description = new_id  # Update the description to match the new ID\n",
    "        # Write the modified record to the output file\n",
    "        SeqIO.write(record, outfile, \"fasta\")"
   ]
  },
  {
   "cell_type": "markdown",
   "id": "1fa9b9ce-6ae1-4329-ae07-2f882380d2db",
   "metadata": {},
   "source": [
    "# Gblocks: masking poorly aligned positions"
   ]
  },
  {
   "cell_type": "markdown",
   "id": "5414e37f-00f6-42a3-8294-15ff56adc505",
   "metadata": {},
   "source": [
    "Gblocks eliminates poorly aligned positions and divergent regions of a DNA/protein alignment. Our alignment has many gap positions as the sequences represent taxa across all eukaryotes. This resulted in alignment with many poorly aligned positions, gaps, and highly variable positions. To mitigate this situation, we can **use Gblocks to mask the dubiously aligned positions and keep the more conservative ones**.\n",
    "There are multiple parameters affecting the resulting masking in Gblocks. As these parameters are essential, I provided the simplified guide to them: https://github.com/wRajter/pacbio_diversity_assessment/tree/master/gblocks_parameters_explained.md, but you can also refer to the official documentation that is the best source: https://home.cc.umanitoba.ca/~psgendb/doc/Castresana/Gblocks_documentation.html."
   ]
  },
  {
   "cell_type": "markdown",
   "id": "9fe2a138-8d20-4418-8eba-5e3cf44d284c",
   "metadata": {},
   "source": [
    "## Creating a grid of parameters"
   ]
  },
  {
   "cell_type": "markdown",
   "id": "4a8d2a62-0ebc-434c-aced-0da28c6d7d3a",
   "metadata": {},
   "source": [
    "As there are multiple parameters that can have differen effect on the resulting alignment, we can try out a range of parameter settings and then compare the resulting alignments. In this way, we can empirically determine which parameter settings work best for our data, and get an idea of how varying those parameters can impact the resulting alignment."
   ]
  },
  {
   "cell_type": "code",
   "execution_count": null,
   "id": "3cee29bf-5e4b-4f14-8a46-189f8b3e9b38",
   "metadata": {},
   "outputs": [],
   "source": [
    "## Define the Parameter Range\n",
    "# Defining the range of values we want to explore for each parameter\n",
    "mafft_alignment = os.path.join(subset_align_dir, 'pr2_version_5.0.0_SSU_UTAX_euknucl_subset_mafft_shortnames.fasta')\n",
    "gblocks_path = os.path.join(raw_data, 'packages', 'Gblocks_0.91b', 'Gblocks')\n",
    "\n",
    "# Number of sequences and half of the sequences in the alignemnt as a baseline for Gblocks parameters\n",
    "num_seqs_ = num_seqs(mafft_alignment)\n",
    "print(f'Total number of sequences in the alignment: {num_seqs_}')\n",
    "half_num_seqs = math.floor(num_seqs_ / 2) + 1 # half of the sequences, rounded down\n",
    "print(f'Half of the sequences in the alignment (rounded down): {half_num_seqs}')\n",
    "\n",
    "# b1\n",
    "step_size_b1 = 20\n",
    "start_b1 = 0\n",
    "stop_b1 = step_size_b1 * 10\n",
    "b1_values = [half_num_seqs + i for i in range(start_b1, stop_b1, step_size_b1)]\n",
    "\n",
    "# b2\n",
    "step_size_b2 = 20\n",
    "start_b2 = 0\n",
    "stop_b2 = step_size_b2 * 10\n",
    "b2_values = [half_num_seqs + i for i in range(start_b2, stop_b2, step_size_b2)]\n",
    "\n",
    "# b3:\n",
    "step_size_b3 = 5\n",
    "start_b3 = 8\n",
    "stop_b3 = (step_size_b3 * 10) + start_b3\n",
    "b3_values = list(range(start_b3, stop_b3, step_size_b3))\n",
    "\n",
    "# b4:\n",
    "step_size_b4 = 5\n",
    "start_b4 = 10\n",
    "stop_b4 =  (step_size_b4 * 10) + start_b4\n",
    "b4_values = list(range(start_b4, stop_b4, step_size_b4))\n",
    "\n",
    "b5_values = ['a', 'h', 'n']\n",
    "\n",
    "print(f'''\n",
    "b1: {b1_values}\n",
    "b2: {b2_values}\n",
    "b3: {b3_values}\n",
    "b4: {b4_values}\n",
    "b5: {b5_values}\n",
    "''')"
   ]
  },
  {
   "cell_type": "code",
   "execution_count": null,
   "id": "832ae5b6-d5d8-45ce-94d0-3532bdf06827",
   "metadata": {},
   "outputs": [],
   "source": [
    "# Run Grid Search\n",
    "run_gblocks_grid_search(mafft_alignment = mafft_alignment,\n",
    "                        b1_values = b1_values,\n",
    "                        b2_values = b2_values,\n",
    "                        b3_values = b3_values,\n",
    "                        b4_values = b4_values,\n",
    "                        b5_values = b5_values,\n",
    "                        gblocks_path = gblocks_path)\n",
    "# Move all the output files to the separate 'grid_search' directory\n",
    "move_search_grid_files(directory_path = subset_align_dir, \n",
    "                       grid_search_path = os.path.join(subset_align_dir, 'grid_search'))"
   ]
  },
  {
   "cell_type": "code",
   "execution_count": null,
   "id": "4e2ed4c6-b1bb-4fe3-8dba-e5d9eab0909a",
   "metadata": {
    "scrolled": true
   },
   "outputs": [],
   "source": [
    "# Checking some basic statistics about our MAFFT alignment\n",
    "\n",
    "search_grid_dir = os.path.join(subset_align_dir, 'grid_search')\n",
    "fasta_files = [fasta for fasta in os.listdir(search_grid_dir) if '.fasta' in fasta and '_a_' in fasta]\n",
    "\n",
    "for fasta_file in fasta_files:\n",
    "    alignment_path = os.path.join(search_grid_dir, fasta_file)\n",
    "    parameters = fasta_file.split('grid_')[1].strip('.fasta')\n",
    "    print(f'Paramters: {parameters}')\n",
    "    alignment_stats(alignment_file = alignment_path)\n",
    "    print('\\n')"
   ]
  },
  {
   "cell_type": "code",
   "execution_count": null,
   "id": "f0bdd094-9661-4ca0-a3a5-d703d3534f49",
   "metadata": {},
   "outputs": [],
   "source": [
    "search_grid_dir = os.path.join(subset_align_dir, 'grid_search')\n",
    "fasta_files = [fasta for fasta in os.listdir(search_grid_dir) if '.fasta' in fasta and '_a_' in fasta]\n",
    "\n",
    "for fasta_file in fasta_files:\n",
    "    alignment_path = os.path.join(search_grid_dir, fasta_file)\n",
    "    num_sequences, alignment_length, average_gaps, percentage_gaps, percentage_identity = alignment_stats(alignment_file = alignment_path)"
   ]
  },
  {
   "cell_type": "code",
   "execution_count": null,
   "id": "628a792e-ab50-46bf-ac67-e7c61f4fe4e9",
   "metadata": {},
   "outputs": [],
   "source": [
    "forfasta_files\n",
    "    "
   ]
  },
  {
   "cell_type": "code",
   "execution_count": null,
   "id": "8efec932-cdfd-4671-9fe0-e7a0a9f33524",
   "metadata": {},
   "outputs": [],
   "source": []
  },
  {
   "cell_type": "code",
   "execution_count": null,
   "id": "14544f69-61d6-4001-a0ee-6b4b2b3aa979",
   "metadata": {},
   "outputs": [],
   "source": []
  },
  {
   "cell_type": "code",
   "execution_count": null,
   "id": "7dbaea9d-fcba-44a7-b8e2-cde7c4324acc",
   "metadata": {},
   "outputs": [],
   "source": []
  },
  {
   "cell_type": "markdown",
   "id": "701af738-e6c8-4631-a975-59d09c29b81f",
   "metadata": {},
   "source": [
    "## Run gblocks"
   ]
  },
  {
   "cell_type": "code",
   "execution_count": null,
   "id": "d4b42801-f82a-4a1a-8475-d1c7bade2c60",
   "metadata": {},
   "outputs": [],
   "source": [
    "# Parameters and paths for GBLOCKS\n",
    "\n",
    "# Paths\n",
    "mafft_alignment = os.path.join(subset_align_dir, 'pr2_version_5.0.0_SSU_UTAX_euknucl_subset_mafft_shortnames.fasta')\n",
    "gblocks_path = os.path.join(raw_data, 'packages', 'Gblocks_0.91b', 'Gblocks')\n",
    "\n",
    "# Number of sequences and half of the sequences in the alignemnt as a baseline for Gblocks parameters\n",
    "num_seqs = num_seqs(mafft_alignment)\n",
    "print(f'Total number of sequences in the alignment: {num_seqs}')\n",
    "half_num_seqs = math.floor(num_seqs / 2) # half of the sequences, rounded down\n",
    "print(f'Half of the sequences in the alignment (rounded down): {half_num_seqs}')\n",
    "\n",
    "## Gblocks Parameters\n",
    "\n",
    "# b1\n",
    "# Description: Minimum Number of Sequences for a Conserved Position\n",
    "# Minimum is half of the sequences in the alignment.\n",
    "b1 = half_num_seqs + 0\n",
    "\n",
    "# b2\n",
    "# Description: Minimum Number Of Sequences For A Flank Position.\n",
    "# The lower limit for b2 is the value you set for b1.\n",
    "b2 = b1 + 0\n",
    "\n",
    "# b3\n",
    "# Description: Maximum Number Of Contiguous Nonconserved Positions.\n",
    "# Setting this value too high can include regions of the alignment that are too variable, \n",
    "# whereas setting it too low can exclude potentially informative parts of the alignment.\n",
    "# Default = 8.\n",
    "b3 = 8\n",
    "\n",
    "# b4\n",
    "# Description: Minimum Length Of A Block.\n",
    "# Any block that's shorter than the number set will be excluded from the final alignment.\n",
    "# Default = 10.\n",
    "b4 = 10\n",
    "\n",
    "# b5\n",
    "# Description: Allowed Gap Positions.\n",
    "# a: all gaps allowed (the most relaxed setting)\n",
    "# h: half (a balanced approach)\n",
    "# n: no gaps allowed (the most strict setting)\n",
    "b5 = 'h'"
   ]
  },
  {
   "cell_type": "code",
   "execution_count": null,
   "id": "e3243dc8-175f-473d-a6e3-8b4c5d59b665",
   "metadata": {},
   "outputs": [],
   "source": [
    "# Run gblocks\n",
    "run_gblocks(input_alignment = mafft_alignment,\n",
    "            b1 = b1, \n",
    "            b2 = b2, \n",
    "            b3 = b3, \n",
    "            b4 = b4, \n",
    "            b5 = b5, \n",
    "            name_specifier='Strict', \n",
    "            gblocks_path = gblocks_path)"
   ]
  },
  {
   "cell_type": "code",
   "execution_count": null,
   "id": "533a59be-ed97-492b-80f6-2240a8b64951",
   "metadata": {},
   "outputs": [],
   "source": []
  },
  {
   "cell_type": "code",
   "execution_count": null,
   "id": "12f09653-c514-4ddd-a7f1-d6a1cdc38537",
   "metadata": {},
   "outputs": [],
   "source": []
  },
  {
   "cell_type": "code",
   "execution_count": null,
   "id": "440009a2-38dc-4b77-b52a-a14c4b4a4388",
   "metadata": {},
   "outputs": [],
   "source": []
  },
  {
   "cell_type": "code",
   "execution_count": null,
   "id": "5eff53c5-5e61-499e-805c-3eef4292e865",
   "metadata": {},
   "outputs": [],
   "source": [
    "# Checking some basic statistics about our MAFFT alignment\n",
    "mafft_alignment = os.path.join(subset_align_dir, 'pr2_version_5.0.0_SSU_UTAX_euknucl_subset_mafft_shortnames_gblocks.fasta')\n",
    "\n",
    "alignment_stats(alignment_file = mafft_alignment)"
   ]
  },
  {
   "cell_type": "code",
   "execution_count": null,
   "id": "33b686d8-e3d0-43f8-96c2-285ae69d6975",
   "metadata": {},
   "outputs": [],
   "source": [
    "# Checking some basic statistics about our MAFFT alignment\n",
    "mafft_alignment = os.path.join(subset_align_dir, 'pr2_version_5.0.0_SSU_UTAX_euknucl_subset_mafft.fasta')\n",
    "\n",
    "alignment_stats(alignment_file = mafft_alignment)"
   ]
  },
  {
   "cell_type": "code",
   "execution_count": null,
   "id": "87b56ec2-5b01-477e-9a5e-58e4296279ac",
   "metadata": {},
   "outputs": [],
   "source": [
    "ALIGNMENT = '../raw_data/reference_alignments/pr2/pr2_version_4.14.0_SSU_UTAX_subset_modified_align.fasta'\n",
    "\n",
    "!$GBLOCKS $ALIGNMENT -t=d -b4=2 -b5=H -b3=2000 -e=.gb1"
   ]
  },
  {
   "cell_type": "markdown",
   "id": "50e0e6dd-351d-4417-a5ea-4722628e298f",
   "metadata": {},
   "source": [
    "-b1 (Minimum Number Of Sequences For A Conserved Position):\n",
    "\n",
    "This is the minimum number of sequences for a conserved position. It's an integer value and is equal to half the total number of sequences plus one by default.\n",
    "-b2 (Minimum Number Of Sequences For A Flanking Position):\n",
    "\n",
    "This is the minimum number of sequences for a flanking position. Like -b1, it's an integer value and defaults to 85% of the number of sequences.\n",
    "-b3 (Maximum Number Of Contiguous Nonconserved Positions):\n",
    "\n",
    "This parameter determines the maximum number of contiguous nonconserved positions. The default value is 8.\n",
    "-b4 (Minimum Length Of A Block):\n",
    "\n",
    "This parameter controls the minimum number of positions in a block after gap positions are treated. There are two settings:\n",
    "-b4=5: This will set the minimum block length to 5.\n",
    "-b4=10: This will set the minimum block length to 10 (which is the default).\n",
    "-b5 (Allowed Gap Positions):\n",
    "\n",
    "This controls how gaps are treated in the alignment.\n",
    "-b5=a: All gap positions are allowed. This is useful if you want to allow columns that consist only of gaps.\n",
    "-b5=h: Positions with gaps in more than half the number of sequences are not allowed. This is the default setting.\n",
    "-b5=n: No gap positions are allowed.\n",
    "-t (Type Of Sequence):\n",
    "\n",
    "This parameter is used to specify the type of sequence. There are three settings:\n",
    "-t=d: DNA sequence.\n",
    "-t=r: RNA sequence.\n",
    "-t=p: Protein sequence.\n",
    "-s (Use Similarity Matrices):\n",
    "\n",
    "By default, Gblocks uses similarity matrices for proteins and DNA. If you want to turn this feature off, use -s=n.\n",
    "-u (Save Noninformative Positions):\n",
    "\n",
    "By default, noninformative positions are discarded. If you want to keep them, use -u=y.\n",
    "-v (Input File In Lower Case):\n",
    "\n",
    "This option specifies if the input file is in lower case (-v=y) or not (-v=n). "
   ]
  },
  {
   "cell_type": "code",
   "execution_count": null,
   "id": "aa43140e-35f1-42b8-9d63-af7aa4129ebe",
   "metadata": {},
   "outputs": [],
   "source": []
  },
  {
   "cell_type": "code",
   "execution_count": null,
   "id": "ba912177",
   "metadata": {},
   "outputs": [],
   "source": []
  },
  {
   "cell_type": "code",
   "execution_count": null,
   "id": "993d083c",
   "metadata": {},
   "outputs": [],
   "source": []
  },
  {
   "cell_type": "code",
   "execution_count": null,
   "id": "262af6fc",
   "metadata": {},
   "outputs": [],
   "source": [
    "seqs_to_remove = ['X93221.1.842_U;tax=k:Eukaryota,d:Excavata,p:Discoba,c:Heterolobosea,o:Tetramitia_VI,f:Vahlkampfiidae_VI,g:Willaertia_VI,s:Willaertia_VI_magna', \n",
    "                  'JN082914.1.1718_U;tax=k:Eukaryota,d:Opisthokonta,p:Metazoa,c:Arthropoda,o:Hexapoda,f:Hexapoda_X,g:Tridactylophagus,s:Tridactylophagus_sp.',\n",
    "                  'JN566139.1.2860_U;tax=k:Eukaryota,d:Excavata,p:Discoba,c:Euglenida,o:Euglenida_X,f:Euglenida_XX,g:Heteronema,s:Heteronema_scaphurum',\n",
    "                  'AJ937879.1.1048_U;tax=k:Eukaryota,d:Opisthokonta,p:Metazoa,c:Myxozoa,o:Myxozoa_X,f:Myxozoa_XX,g:Myxozoa_XXX,s:Myxozoa_XXX_sp.',\n",
    "                  'JQ519509.1.1706_U;tax=k:Eukaryota,d:Amoebozoa,p:Lobosa,c:Tubulinea,o:Arcellinida,f:Difflugiidae,g:Netzelia,s:Netzelia_wailesi',\n",
    "                  'DQ205365.1.1268_U;tax=k:Eukaryota,d:Rhizaria,p:Foraminifera,c:Globothalamea,o:Rotaliida,f:Cibicididae,g:Cibicidoides,s:Cibicidoides_refulgens',\n",
    "                  'FJ705910.1.1268_U;tax=k:Eukaryota,d:Rhizaria,p:Foraminifera,c:Globothalamea,o:Rotaliida,f:Fursenkoinacea,g:Virgulina,s:Virgulina_concava',\n",
    "                  'DQ205383.1.1263_U;tax=k:Eukaryota,d:Rhizaria,p:Foraminifera,c:Globothalamea,o:Rotaliida,f:Pulleniidae,g:Pullenia,s:Pullenia_subcarinata',\n",
    "                  'DQ205389.1.1342_U;tax=k:Eukaryota,d:Rhizaria,p:Foraminifera,c:Globothalamea,o:Rotaliida,f:Buliminidae,g:Bulimina,s:Bulimina_marginata',\n",
    "                  'FJ705907.1.1336_U;tax=k:Eukaryota,d:Rhizaria,p:Foraminifera,c:Globothalamea,o:Rotaliida,f:Cassidulinidae,g:Cassidulina,s:Cassidulina_laevigata',\n",
    "                  'DQ205362.1.1195_U;tax=k:Eukaryota,d:Rhizaria,p:Foraminifera,c:Globothalamea,o:Rotaliida,f:Planorbulinidae,g:Hyalinea,s:Hyalinea_balthica',\n",
    "                  'AJ628838.1.1178_U;tax=k:Eukaryota:plas,d:Alveolata:plas,p:Dinoflagellata:plas,c:Dinophyceae:plas,o:Gonyaulacales:plas,f:Ceratiaceae:plas,g:Neoceratium:plas,s:Neoceratium_horridum:plas',\n",
    "                  'DQ264858.1.1219_U;tax=k:Eukaryota:plas,d:Alveolata:plas,p:Dinoflagellata:plas,c:Dinophyceae:plas,o:Gonyaulacales:plas,f:Gonyaulacaceae:plas,g:Lingulodinium:plas,s:Lingulodinium_polyedra:plas',\n",
    "                  'LN735525.1.1205_U;tax=k:Eukaryota:plas,d:Alveolata:plas,p:Dinoflagellata:plas,c:Dinophyceae:plas,o:Suessiales:plas,f:Symbiodiniaceae:plas,g:Breviolum:plas,s:Breviolum_sp.:plas',\n",
    "                  'AY123745.1.924_UC;tax=k:Eukaryota,d:Opisthokonta,p:Fungi,c:Ascomycota,o:Pezizomycotina,f:Sordariomycetes,g:Sordariomycetes_X,s:Sordariomycetes_X_sp.']\n",
    "\n",
    "substring_to_remove = ['k:Bacteria', 'k:Archaea']"
   ]
  },
  {
   "cell_type": "code",
   "execution_count": null,
   "id": "6d563af2",
   "metadata": {},
   "outputs": [],
   "source": [
    "# Load the sequences into a list\n",
    "input_file =os.path.join(alignment_dir, 'pr2_version_4.14.0_SSU_UTAX_subset.fasta')\n",
    "\n",
    "sequences = list(SeqIO.parse(input_file, \"fasta\"))"
   ]
  },
  {
   "cell_type": "code",
   "execution_count": null,
   "id": "feca7ba8",
   "metadata": {},
   "outputs": [],
   "source": [
    "# Filtering based on seqs_to_remove:\n",
    "filtered_sequences = [seq for seq in sequences if seq.id not in seqs_to_remove]\n",
    "# Filtering based on substrings_to_remove:\n",
    "filtered_sequences = [seq for seq in filtered_sequences if not any(sub in seq.id for sub in substring_to_remove)]"
   ]
  },
  {
   "cell_type": "code",
   "execution_count": null,
   "id": "942f2847",
   "metadata": {},
   "outputs": [],
   "source": [
    "output_file = os.path.join(alignment_dir, 'pr2_version_4.14.0_SSU_UTAX_subset_filtered.fasta')\n",
    "\n",
    "with open(output_file, \"w\") as output_handle:\n",
    "    SeqIO.write(filtered_sequences, output_handle, \"fasta\")"
   ]
  },
  {
   "cell_type": "code",
   "execution_count": null,
   "id": "d6e2edfc",
   "metadata": {},
   "outputs": [],
   "source": [
    "len(filtered_sequences)"
   ]
  },
  {
   "cell_type": "markdown",
   "id": "14d31d2f",
   "metadata": {},
   "source": [
    "# Extracting the sequence names and taxonomic paths"
   ]
  },
  {
   "cell_type": "code",
   "execution_count": null,
   "id": "3af449c0",
   "metadata": {},
   "outputs": [],
   "source": [
    "input_file = os.path.join(alignment_dir, 'pr2_version_4.14.0_SSU_UTAX_subset_filtered.fasta')\n",
    "output_file = os.path.join(alignment_dir, 'ids_list.txt')\n",
    "\n",
    "# Open the input file for reading and output file for writing\n",
    "with open(input_file, 'r') as infile, open(output_file, 'w') as outfile:\n",
    "    # Read through each line in the input file\n",
    "    for line in infile:\n",
    "        # If the line starts with '>', it's a header line\n",
    "        if line.startswith('>'):\n",
    "            # Write the line to the output file, excluding the '>' and trimming whitespace\n",
    "            outfile.write(line[1:].strip() + '\\n')  # write the id without '>' and add a newline\n"
   ]
  },
  {
   "cell_type": "code",
   "execution_count": null,
   "id": "1394f230",
   "metadata": {},
   "outputs": [],
   "source": [
    "# Creating taxon file\n",
    "\n",
    "input_file = os.path.join(alignment_dir, 'ids_list.txt')\n",
    "output_file = os.path.join(alignment_dir, 'taxon_file.txt')\n",
    "\n",
    "# Open the input file for reading and output file for writing\n",
    "with open(input_file, 'r') as infile, open(output_file, 'w') as outfile:\n",
    "    # Read through each line in the input file\n",
    "    for line in infile:\n",
    "        # If the line starts with '>', it's a header line\n",
    "        if line.startswith('>'):\n",
    "            # Write the line to the output file, excluding the '>' and trimming whitespace\n",
    "            outfile.write(line[1:].strip() + '\\n')  # write the id without '>' and add a newline\n",
    "\n",
    "AJ875130.1.1731_U;tax=k:Eukaryota,d:Opisthokonta,p:Metazoa,c:Nematoda,o:Enoplea,f:Enoplea_X,g:Enoplea_XX,s:Enoplea_XX_sp."
   ]
  },
  {
   "cell_type": "markdown",
   "id": "100ac740",
   "metadata": {},
   "source": [
    "# Removing taxopath from the PR2 subset alignment"
   ]
  },
  {
   "cell_type": "code",
   "execution_count": null,
   "id": "68c64e47",
   "metadata": {},
   "outputs": [],
   "source": [
    "from Bio import SeqIO\n",
    "\n",
    "input_file = os.path.join(alignment_dir, 'pr2_version_4.14.0_SSU_UTAX_subset.fasta')\n",
    "output_file = os.path.join(alignment_dir, 'pr2_version_4.14.0_SSU_UTAX_subset_modified.fasta')\n",
    "\n",
    "# Open the input file, parse sequences, modify IDs, and write to output file\n",
    "with open(input_file, 'r') as infile, open(output_file, 'w') as outfile:\n",
    "    # Iterate over each record in the input file\n",
    "    for record in SeqIO.parse(infile, \"fasta\"):\n",
    "        # Split the ID at the '.' character and keep only the first part\n",
    "        new_id = record.id.split('.')[0]\n",
    "        # Update the record's ID with the new ID\n",
    "        record.id = new_id\n",
    "        record.description = new_id  # Update the description to match the new ID\n",
    "        # Write the modified record to the output file\n",
    "        SeqIO.write(record, outfile, \"fasta\")"
   ]
  },
  {
   "cell_type": "markdown",
   "id": "715d5d6f",
   "metadata": {},
   "source": [
    "# Using Gblocks"
   ]
  },
  {
   "cell_type": "code",
   "execution_count": null,
   "id": "53b780f2",
   "metadata": {},
   "outputs": [],
   "source": [
    "GBLOCKS = '../raw_data/packages/Gblocks_0.91b/Gblocks'\n",
    "ALIGNMENT = '../raw_data/reference_alignments/pr2/pr2_version_4.14.0_SSU_UTAX_subset_modified_align.fasta'\n",
    "\n",
    "!$GBLOCKS $ALIGNMENT -t=d -b4=2 -b5=H -b3=2000 -e=.gb1"
   ]
  },
  {
   "cell_type": "code",
   "execution_count": null,
   "id": "08e7eb7e",
   "metadata": {},
   "outputs": [],
   "source": []
  },
  {
   "cell_type": "code",
   "execution_count": null,
   "id": "0148d642",
   "metadata": {},
   "outputs": [],
   "source": []
  },
  {
   "cell_type": "markdown",
   "id": "52d2d494",
   "metadata": {},
   "source": [
    "# Subset Query Sequences"
   ]
  },
  {
   "cell_type": "markdown",
   "id": "4b290746",
   "metadata": {},
   "source": [
    "## Filter out all the bacterial and archaeal sequences from the OTUs"
   ]
  },
  {
   "cell_type": "code",
   "execution_count": null,
   "id": "952eede8",
   "metadata": {},
   "outputs": [],
   "source": [
    "# Functions\n",
    "\n",
    "# Extract sequence IDs with Bacteria or Archaea in their taxonomic assignment\n",
    "def find_bacteria_archaea(tax_assign_dir, file):\n",
    "    '''\n",
    "    Extract sequence IDs with Bacteria or Archaea in their taxonomic assignment.\n",
    "\n",
    "    Parameters:\n",
    "    - tax_assign_dir (str): Directory path containing taxonomic assignment files.\n",
    "    - file (str): Taxonomic assignment file.\n",
    "\n",
    "    Returns:\n",
    "    - bacterial_and_archaeal_ids (set): Set of sequence IDs with either Bacteria or Archaea in their taxonomic assignment.\n",
    "    '''\n",
    "    bacterial_and_archaeal_ids = []\n",
    "    with open(os.path.join(tax_assign_dir, file), \"r\") as f:\n",
    "        for line in f:\n",
    "            parts = line.strip().split(\"\\t\")\n",
    "            taxonomy = parts[1]\n",
    "            seq_id = parts[0]\n",
    "            if 'k:Bacteria' in taxonomy or 'k:Archaea' in taxonomy:\n",
    "                bacterial_and_archaeal_ids.append(seq_id)\n",
    "    return bacterial_and_archaeal_ids\n",
    "\n",
    "# Filter fasta files\n",
    "def filter_fasta_file(input_file, output_file, ids_to_exclude):\n",
    "    '''\n",
    "    Filters sequences in a fasta file based on a list of sequence IDs to exclude.\n",
    "\n",
    "    Parameters:\n",
    "    - input_file (str): Path to the input fasta file.\n",
    "    - output_file (str): Path where the filtered fasta file should be saved.\n",
    "    - ids_to_exclude (set): Set of sequence IDs to exclude.\n",
    "    '''\n",
    "    sequences = [record for record in SeqIO.parse(input_file, \"fasta\") if record.id not in ids_to_exclude]\n",
    "    SeqIO.write(sequences, output_file, \"fasta\")"
   ]
  },
  {
   "cell_type": "code",
   "execution_count": null,
   "id": "739b17d2",
   "metadata": {},
   "outputs": [],
   "source": [
    "# list of samples you want to filter\n",
    "samples = ['A3', \n",
    "           'NH1', \n",
    "           'NH4', \n",
    "           'Sim17', \n",
    "           'Sim22', \n",
    "           'Th16', \n",
    "           'Th38', \n",
    "           'Th40', \n",
    "           'X17007']"
   ]
  },
  {
   "cell_type": "code",
   "execution_count": null,
   "id": "77340a6d",
   "metadata": {},
   "outputs": [],
   "source": [
    "# Usage\n",
    "\n",
    "# Loop through the samples\n",
    "for sample in samples:\n",
    "    \n",
    "    # Step 1: Extract sequence IDs with Bacteria or Archaea from the taxonomy assignment file\n",
    "    file_name = f'blast6_{sample}_18S.tab'\n",
    "    bacterial_and_archaeal_ids = find_bacteria_archaea(tax_assign_dir, file_name)\n",
    "    \n",
    "    # Define input and output paths for fasta files\n",
    "    input_fasta_file = os.path.join(otu_nonchimeric_dir, f'{sample}_18S_otu.fasta')\n",
    "    output_fasta_file = os.path.join(otu_eukaryotes_dir, f'{sample}_18S_otu_filtered.fasta')\n",
    "    \n",
    "    \n",
    "    # Step 2: Filter fasta files and save them to the designated directory\n",
    "    filter_fasta_file(input_fasta_file, output_fasta_file, bacterial_and_archaeal_ids)"
   ]
  },
  {
   "cell_type": "code",
   "execution_count": null,
   "id": "946f4617",
   "metadata": {},
   "outputs": [],
   "source": []
  },
  {
   "cell_type": "code",
   "execution_count": null,
   "id": "b35dd53f",
   "metadata": {},
   "outputs": [],
   "source": []
  }
 ],
 "metadata": {
  "kernelspec": {
   "display_name": "Python 3 (ipykernel)",
   "language": "python",
   "name": "python3"
  },
  "language_info": {
   "codemirror_mode": {
    "name": "ipython",
    "version": 3
   },
   "file_extension": ".py",
   "mimetype": "text/x-python",
   "name": "python",
   "nbconvert_exporter": "python",
   "pygments_lexer": "ipython3",
   "version": "3.11.0"
  },
  "toc": {
   "base_numbering": 1,
   "nav_menu": {},
   "number_sections": true,
   "sideBar": true,
   "skip_h1_title": false,
   "title_cell": "Table of Contents",
   "title_sidebar": "Contents",
   "toc_cell": false,
   "toc_position": {},
   "toc_section_display": true,
   "toc_window_display": false
  }
 },
 "nbformat": 4,
 "nbformat_minor": 5
}
