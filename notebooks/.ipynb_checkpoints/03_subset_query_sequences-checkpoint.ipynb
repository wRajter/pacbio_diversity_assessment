{
 "cells": [
  {
   "cell_type": "markdown",
   "id": "7e48c660-30d1-49eb-bff9-6ea1aa065d61",
   "metadata": {},
   "source": [
    "## Imports"
   ]
  },
  {
   "cell_type": "code",
   "execution_count": null,
   "id": "1d4cf524-08ba-49c2-9fc7-4f82a3c47516",
   "metadata": {},
   "outputs": [],
   "source": []
  },
  {
   "cell_type": "markdown",
   "id": "bfd2e211-dc46-4da4-9949-6945620e230e",
   "metadata": {},
   "source": [
    "## Variables"
   ]
  },
  {
   "cell_type": "code",
   "execution_count": null,
   "id": "7538ec88-1c7e-44d7-a807-460201ea93c1",
   "metadata": {},
   "outputs": [],
   "source": []
  },
  {
   "cell_type": "markdown",
   "id": "2b749d05-2372-4c41-9419-672c5fc59dc1",
   "metadata": {},
   "source": [
    "# Subset Query Sequences"
   ]
  },
  {
   "cell_type": "markdown",
   "id": "4a84ed35-9211-49c9-a97f-66a0589b4307",
   "metadata": {},
   "source": [
    "## Filter out all the bacterial and archaeal sequences from the OTUs"
   ]
  },
  {
   "cell_type": "code",
   "execution_count": null,
   "id": "8baa18c6-fd85-49af-a51c-745cab76374a",
   "metadata": {},
   "outputs": [],
   "source": [
    "# Functions\n",
    "\n",
    "# Extract sequence IDs with Bacteria or Archaea in their taxonomic assignment\n",
    "def find_bacteria_archaea(tax_assign_dir, file):\n",
    "    '''\n",
    "    Extract sequence IDs with Bacteria or Archaea in their taxonomic assignment.\n",
    "\n",
    "    Parameters:\n",
    "    - tax_assign_dir (str): Directory path containing taxonomic assignment files.\n",
    "    - file (str): Taxonomic assignment file.\n",
    "\n",
    "    Returns:\n",
    "    - bacterial_and_archaeal_ids (set): Set of sequence IDs with either Bacteria or Archaea in their taxonomic assignment.\n",
    "    '''\n",
    "    bacterial_and_archaeal_ids = []\n",
    "    with open(os.path.join(tax_assign_dir, file), \"r\") as f:\n",
    "        for line in f:\n",
    "            parts = line.strip().split(\"\\t\")\n",
    "            taxonomy = parts[1]\n",
    "            seq_id = parts[0]\n",
    "            if 'k:Bacteria' in taxonomy or 'k:Archaea' in taxonomy:\n",
    "                bacterial_and_archaeal_ids.append(seq_id)\n",
    "    return bacterial_and_archaeal_ids\n",
    "\n",
    "# Filter fasta files\n",
    "def filter_fasta_file(input_file, output_file, ids_to_exclude):\n",
    "    '''\n",
    "    Filters sequences in a fasta file based on a list of sequence IDs to exclude.\n",
    "\n",
    "    Parameters:\n",
    "    - input_file (str): Path to the input fasta file.\n",
    "    - output_file (str): Path where the filtered fasta file should be saved.\n",
    "    - ids_to_exclude (set): Set of sequence IDs to exclude.\n",
    "    '''\n",
    "    sequences = [record for record in SeqIO.parse(input_file, \"fasta\") if record.id not in ids_to_exclude]\n",
    "    SeqIO.write(sequences, output_file, \"fasta\")"
   ]
  },
  {
   "cell_type": "code",
   "execution_count": null,
   "id": "6c3c236c-47c0-4c82-8db4-39db61630ba0",
   "metadata": {},
   "outputs": [],
   "source": [
    "# list of samples you want to filter\n",
    "samples = ['A3', \n",
    "           'NH1', \n",
    "           'NH4', \n",
    "           'Sim17', \n",
    "           'Sim22', \n",
    "           'Th16', \n",
    "           'Th38', \n",
    "           'Th40', \n",
    "           'X17007']"
   ]
  },
  {
   "cell_type": "code",
   "execution_count": null,
   "id": "d465e9f0-bd53-4526-b942-d74ab533db07",
   "metadata": {},
   "outputs": [],
   "source": [
    "# Usage\n",
    "\n",
    "# Loop through the samples\n",
    "for sample in samples:\n",
    "    \n",
    "    # Step 1: Extract sequence IDs with Bacteria or Archaea from the taxonomy assignment file\n",
    "    file_name = f'blast6_{sample}_18S.tab'\n",
    "    bacterial_and_archaeal_ids = find_bacteria_archaea(tax_assign_dir, file_name)\n",
    "    \n",
    "    # Define input and output paths for fasta files\n",
    "    input_fasta_file = os.path.join(otu_nonchimeric_dir, f'{sample}_18S_otu.fasta')\n",
    "    output_fasta_file = os.path.join(otu_eukaryotes_dir, f'{sample}_18S_otu_filtered.fasta')\n",
    "    \n",
    "    \n",
    "    # Step 2: Filter fasta files and save them to the designated directory\n",
    "    filter_fasta_file(input_fasta_file, output_fasta_file, bacterial_and_archaeal_ids)"
   ]
  },
  {
   "cell_type": "code",
   "execution_count": null,
   "id": "9eed25fe-123c-4592-bd7d-1672a6cb1c5b",
   "metadata": {},
   "outputs": [],
   "source": []
  },
  {
   "cell_type": "code",
   "execution_count": null,
   "id": "55d551b9-4b99-4a9c-bf5a-61105e081dfc",
   "metadata": {},
   "outputs": [],
   "source": []
  }
 ],
 "metadata": {
  "kernelspec": {
   "display_name": "Python 3 (ipykernel)",
   "language": "python",
   "name": "python3"
  },
  "language_info": {
   "codemirror_mode": {
    "name": "ipython",
    "version": 3
   },
   "file_extension": ".py",
   "mimetype": "text/x-python",
   "name": "python",
   "nbconvert_exporter": "python",
   "pygments_lexer": "ipython3",
   "version": "3.11.0"
  }
 },
 "nbformat": 4,
 "nbformat_minor": 5
}
