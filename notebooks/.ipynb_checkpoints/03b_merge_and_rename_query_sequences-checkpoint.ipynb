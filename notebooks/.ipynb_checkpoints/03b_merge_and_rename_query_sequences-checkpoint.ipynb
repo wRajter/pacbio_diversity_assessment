{
 "cells": [
  {
   "cell_type": "markdown",
   "id": "017ea10f-2f90-40fb-8156-2b414313cdb9",
   "metadata": {},
   "source": [
    "## Imports"
   ]
  },
  {
   "cell_type": "code",
   "execution_count": 25,
   "id": "ce085e45-dd66-45d0-b44c-11dd62d6db77",
   "metadata": {},
   "outputs": [],
   "source": [
    "import os\n",
    "from collections import Counter"
   ]
  },
  {
   "cell_type": "markdown",
   "id": "03a77ee5-3e67-47f2-a9d6-e50afc29b5aa",
   "metadata": {},
   "source": [
    "## Variables"
   ]
  },
  {
   "cell_type": "code",
   "execution_count": 2,
   "id": "96cbe530-f8e5-44d9-adea-9b62183b080a",
   "metadata": {},
   "outputs": [],
   "source": [
    "project = 'Suthaus_2022'\n",
    "marker = 'Full18S'\n",
    "sim = 'sim90'\n",
    "denoise_method = 'RAD'\n",
    "raw_data = os.path.join('..', 'raw_data')\n",
    "otu_eukaryotes_dir = os.path.join(raw_data, 'OTU_eukaryotes', project, marker, sim, denoise_method)"
   ]
  },
  {
   "cell_type": "markdown",
   "id": "c2a2fbfd-c296-46b4-a399-9b7058d87fe9",
   "metadata": {},
   "source": [
    "# Rename and merge query sequences"
   ]
  },
  {
   "cell_type": "markdown",
   "id": "47a63d88-169d-4dcb-96de-bb0320d24359",
   "metadata": {},
   "source": [
    "In the next step, I want to merge fasta files and adjust their names. As I have fasta files per sample, I want to merge all the fasta files into one, so I can analyze all the samples at once. Moreover, to identify the OTU sample origin, I want to add the sample name to each OTU ID."
   ]
  },
  {
   "cell_type": "code",
   "execution_count": 3,
   "id": "ef3ba300-f525-4022-94b8-a5548ba07f3c",
   "metadata": {},
   "outputs": [
    {
     "data": {
      "text/plain": [
       "['A3_18S_otu_filtered.fasta',\n",
       " 'Th40_18S_otu_filtered.fasta',\n",
       " 'Th16_18S_otu_filtered.fasta',\n",
       " 'X17007_18S_otu_filtered.fasta',\n",
       " 'NH4_18S_otu_filtered.fasta',\n",
       " 'NH1_18S_otu_filtered.fasta',\n",
       " 'Sim22_18S_otu_filtered.fasta',\n",
       " 'Th38_18S_otu_filtered.fasta',\n",
       " 'Sim17_18S_otu_filtered.fasta',\n",
       " 'merged_samples.fasta']"
      ]
     },
     "execution_count": 3,
     "metadata": {},
     "output_type": "execute_result"
    }
   ],
   "source": [
    "os.listdir(otu_eukaryotes_dir)"
   ]
  },
  {
   "cell_type": "code",
   "execution_count": 10,
   "id": "7282cf73-2053-4966-81de-becb4877ae75",
   "metadata": {},
   "outputs": [],
   "source": [
    "# Path to save the merged file\n",
    "merged_fasta_path = os.path.join(otu_eukaryotes_dir, 'merged_samples.fasta')\n",
    "\n",
    "# List of FASTA files\n",
    "fasta_files = os.listdir(otu_eukaryotes_dir)\n",
    "\n",
    "with open(merged_fasta_path, 'w') as merged_fasta:\n",
    "    for file in fasta_files:\n",
    "        # Extract sample name from the filename\n",
    "        sample_name = file.split('_')[0]\n",
    "\n",
    "        with open(os.path.join(otu_eukaryotes_dir, file), 'r') as infile:\n",
    "            for line in infile:\n",
    "                if line.startswith('>'):\n",
    "                    # Modify the header line to include the sample name\n",
    "                    merged_fasta.write(f'{line.strip()}_{sample_name}\\n')\n",
    "                else:\n",
    "                    merged_fasta.write(line)"
   ]
  },
  {
   "cell_type": "markdown",
   "id": "7ed437a7-3974-433c-97ab-ee0c9070faba",
   "metadata": {},
   "source": [
    "## Verification"
   ]
  },
  {
   "cell_type": "markdown",
   "id": "485b84e8-1e93-4128-9238-f546b050c195",
   "metadata": {},
   "source": [
    "I want to verify that the merging process went smoothly and we didn't miss any sequences or accidentally duplicate them."
   ]
  },
  {
   "cell_type": "markdown",
   "id": "93cf658f-bc55-4008-b287-ed710f17a62e",
   "metadata": {},
   "source": [
    "### Merged file"
   ]
  },
  {
   "cell_type": "markdown",
   "id": "e97cb93f-5f70-4ac8-801a-3652501a398d",
   "metadata": {},
   "source": [
    "Tally up the occurrences of the individual samples in the merged file. "
   ]
  },
  {
   "cell_type": "code",
   "execution_count": 38,
   "id": "097e2049-e502-41b7-97e5-ddcb97a28b66",
   "metadata": {},
   "outputs": [],
   "source": [
    "# Initialize dictionary with zero counts\n",
    "merged_count = {sample.split('_')[0]:0 for sample in os.listdir(otu_eukaryotes_dir) if sample.endswith('.fasta') and 'merged_samples.fasta' not in sample}\n",
    "\n",
    "# Use a Counter to tally up occurrences in the merged file\n",
    "merged_counter = Counter()\n",
    "\n",
    "with open(os.path.join(otu_eukaryotes_dir, 'merged_samples.fasta'), 'r') as infile:\n",
    "    for line in infile:\n",
    "        if line.startswith('>'):\n",
    "            # Extract the sample name from the header\n",
    "            sample_name = line.split('_')[-1].strip()\n",
    "            merged_counter[sample_name] += 1"
   ]
  },
  {
   "cell_type": "markdown",
   "id": "db36f642-a8d9-4619-a2c0-32b8d18323d4",
   "metadata": {},
   "source": [
    "## Individual sample files"
   ]
  },
  {
   "cell_type": "markdown",
   "id": "0cf95950-3e68-4daf-a9df-f38295ee4940",
   "metadata": {},
   "source": [
    "Now, to tally up occurrences in the individual FASTA files."
   ]
  },
  {
   "cell_type": "code",
   "execution_count": 35,
   "id": "3db72782-f484-44b4-ac94-fc2bdbba158f",
   "metadata": {},
   "outputs": [
    {
     "name": "stdout",
     "output_type": "stream",
     "text": [
      "{'A3': 140, 'Th40': 62, 'Th16': 115, 'X17007': 103, 'NH4': 44, 'NH1': 45, 'Sim22': 89, 'Th38': 81, 'Sim17': 124}\n"
     ]
    }
   ],
   "source": [
    "individual_counts = {sample.split('_')[0]:0 for sample in os.listdir(otu_eukaryotes_dir) if sample.endswith('.fasta') and 'merged_samples.fasta' not in sample}\n",
    "\n",
    "for sample_file in os.listdir(otu_eukaryotes_dir):\n",
    "    if sample_file.endswith('.fasta') and 'merged_samples.fasta' not in sample_file:\n",
    "        sample_name = sample_file.split('_')[0]\n",
    "        with open(os.path.join(otu_eukaryotes_dir, sample_file), 'r') as f:\n",
    "            # Count the number of header lines (i.e., sequences)\n",
    "            count = sum(1 for line in f if line.startswith('>'))\n",
    "        individual_counts[sample_name] = count"
   ]
  },
  {
   "cell_type": "markdown",
   "id": "67ea6af7-7a6f-41ba-a422-471d61040882",
   "metadata": {},
   "source": [
    "## Final comparison"
   ]
  },
  {
   "cell_type": "code",
   "execution_count": 49,
   "id": "bf033ac1-68fd-402e-a9ef-57930df41fef",
   "metadata": {},
   "outputs": [
    {
     "name": "stdout",
     "output_type": "stream",
     "text": [
      "The OTU numbers match between the merged and A3 FASTA file!\n",
      "The OTU numbers match between the merged and Th40 FASTA file!\n",
      "The OTU numbers match between the merged and Th16 FASTA file!\n",
      "The OTU numbers match between the merged and X17007 FASTA file!\n",
      "The OTU numbers match between the merged and NH4 FASTA file!\n",
      "The OTU numbers match between the merged and NH1 FASTA file!\n",
      "The OTU numbers match between the merged and Sim22 FASTA file!\n",
      "The OTU numbers match between the merged and Th38 FASTA file!\n",
      "The OTU numbers match between the merged and Sim17 FASTA file!\n"
     ]
    }
   ],
   "source": [
    "for sample_name in individual_counts.keys():\n",
    "    if merged_counter[sample_name] == individual_counts[sample_name]:\n",
    "        print(f'The OTU numbers match between the merged and {sample_name} FASTA file!')\n",
    "    else:\n",
    "        print(f\"\"\"\n",
    "        The OTU numbers DOESN'T match between the merged and {sample_name} FASTA file!\n",
    "        Merge file: {merged_counter[sample_name]}\n",
    "        Sample file: {individual_counts[sample_name]}\n",
    "        \"\"\")"
   ]
  }
 ],
 "metadata": {
  "kernelspec": {
   "display_name": "Python 3 (ipykernel)",
   "language": "python",
   "name": "python3"
  },
  "language_info": {
   "codemirror_mode": {
    "name": "ipython",
    "version": 3
   },
   "file_extension": ".py",
   "mimetype": "text/x-python",
   "name": "python",
   "nbconvert_exporter": "python",
   "pygments_lexer": "ipython3",
   "version": "3.11.0"
  }
 },
 "nbformat": 4,
 "nbformat_minor": 5
}
