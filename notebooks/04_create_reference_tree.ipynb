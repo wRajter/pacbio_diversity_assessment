{
 "cells": [
  {
   "cell_type": "markdown",
   "id": "bb28ad3f-12d2-4312-a8c8-17abc78e6f89",
   "metadata": {},
   "source": [
    "## Imports"
   ]
  },
  {
   "cell_type": "code",
   "execution_count": 1,
   "id": "56285226-ef8a-493e-82d4-8e3b30a98255",
   "metadata": {},
   "outputs": [],
   "source": [
    "import paramiko\n",
    "from scp import SCPClient\n",
    "import os\n",
    "import sys\n",
    "import logging\n",
    "\n",
    "from dotenv import load_dotenv\n",
    "load_dotenv('../secrets.env')\n",
    "\n",
    "# Custom functions\n",
    "python_dir_path = os.path.join('..', 'scripts', 'python')\n",
    "sys.path.append(python_dir_path)\n",
    "from compute_tree import run_raxmlng_check, generate_slurm_script, submit_sbatch"
   ]
  },
  {
   "cell_type": "markdown",
   "id": "92256faa-5ae6-430a-be3e-13027fa0ee32",
   "metadata": {},
   "source": [
    "## Variables"
   ]
  },
  {
   "cell_type": "code",
   "execution_count": 2,
   "id": "28e071e6-a85f-43f6-a59d-6ecc8cce6ea5",
   "metadata": {},
   "outputs": [],
   "source": [
    "raw_data = os.path.join('..', 'raw_data')\n",
    "subset_align_dir = os.path.join(raw_data, 'reference_alignments', 'pr2_subset')\n",
    "subset_reftree_dir = os.path.join(raw_data, 'reference_trees', 'pr2_subset')\n",
    "slurm_scripts_dir = os.path.join('..', 'scripts', 'slurm')"
   ]
  },
  {
   "cell_type": "markdown",
   "id": "bc07f18a-8dfc-4256-a6c8-db4dd9a22a85",
   "metadata": {},
   "source": [
    "# Create reference tree using *raxml-ng*"
   ]
  },
  {
   "cell_type": "markdown",
   "id": "d42a7bf1-263c-419e-b45a-0990d8d356d9",
   "metadata": {},
   "source": [
    "## Alignment validation using RAxML-ng"
   ]
  },
  {
   "cell_type": "markdown",
   "id": "7c3b2057-88a6-4a4a-afd5-de7df4371f2d",
   "metadata": {},
   "source": [
    "Before going into computationally intensive phylogenetic analyses, it's important to ensure that our initial data – the alignment – is in good shape. For this, we can use the RAxML *--check* function.\r\n",
    "The *--check* function in RAxML provides a preliminary examination of the alignment data. It checks for potential issues, such as\r\n",
    "1. Data Consistency: Ensures that the alignment doesn't have any unexpected or inconsistent data formats that could disrupt subsequent analysis.\r\n",
    "2. Gap Handling: Identifies if there are any all-gap columns which might be problematic for tree calculations.\r\n",
    "3. Model Compatibility: Verifies that the chosen substitution model is appropriate for the alignment dtion.tion.\r\n",
    "\r\n"
   ]
  },
  {
   "cell_type": "code",
   "execution_count": null,
   "id": "8d9a1fb2-5caf-4658-8cd6-f4bbfedb2d95",
   "metadata": {},
   "outputs": [],
   "source": [
    "# Alignment validation using RAxML-ng\n",
    "\n",
    "# Variables\n",
    "alignment_masking = 'Moderate' # Loose, Moderate, or Strict\n",
    "alignment_name = f'reference_alignment_gblocks{alignment_masking}.fasta'\n",
    "ref_alignment_path = os.path.join(subset_align_dir, alignment_name)\n",
    "output_dir_path = os.path.join(subset_reftree_dir, f'gblocks{alignment_masking}')\n",
    "\n",
    "# Run\n",
    "run_raxmlng_check(ref_alignment = ref_alignment_path, \n",
    "                  output_dir = output_dir_path, \n",
    "                  model='GTR+G', \n",
    "                  prefix=\"T1\", \n",
    "                  log_file='log_file.txt')"
   ]
  },
  {
   "cell_type": "markdown",
   "id": "8f53a501-8464-45a4-8433-56fa890581e5",
   "metadata": {},
   "source": [
    "## Create slurm script"
   ]
  },
  {
   "cell_type": "code",
   "execution_count": 9,
   "id": "bcc287a3-e820-47ad-bcb0-d05e3c05d0a4",
   "metadata": {},
   "outputs": [
    {
     "name": "stdout",
     "output_type": "stream",
     "text": [
      "Script saved to ../scripts/slurm/compute_tree.slurm\n"
     ]
    }
   ],
   "source": [
    "# Define inputs:\n",
    "masking_level = 'Moderate'\n",
    "ref_align_cheops_path = os.path.join('pacbio_diversity_assessment', 'alignments', 'pr2_subset', f'reference_alignment_gblocks{masking_level}.fasta')\n",
    "ref_trees_cheaops_path = os.path.join('pacbio_diversity_assessment', 'reference_trees', 'pr2_subset', f'gblocks{masking_level}')\n",
    "model = 'GTR+FO+G4m'\n",
    "ncores = 6\n",
    "slurm_script_name = 'compute_tree.slurm'\n",
    "\n",
    "slurm_input = {'email': os.getenv('EMAIL'),\n",
    "               'ref_alignment': os.path.join(ref_align_cheops_path),\n",
    "               'otu_dir': ref_trees_cheaops_path,\n",
    "               'model': model,\n",
    "               'ncores': ncores,\n",
    "               'prefix': f'T2_{masking_level}'}\n",
    "\n",
    "# Prompt the user for input and generate the script\n",
    "script_content = generate_slurm_script(slurm_input)\n",
    "\n",
    "# Save the generated script to a file\n",
    "script_path = os.path.join(slurm_scripts_dir, slurm_script_name)\n",
    "with open(script_path, 'w') as file:\n",
    "    file.write(script_content)\n",
    "\n",
    "print(f\"Script saved to {script_path}\")"
   ]
  },
  {
   "cell_type": "markdown",
   "id": "9cf7d5d3-8cd2-4558-a146-5670635f6d5a",
   "metadata": {},
   "source": [
    "## Computing a phylogenetic tree at the CHEOPS cluster"
   ]
  },
  {
   "cell_type": "markdown",
   "id": "0d90d71f-593f-485c-b3f9-ce3e50e02557",
   "metadata": {},
   "source": [
    "In the next step, we can compute a phylogenetic tree from the validated reference alignment.\n",
    "\n",
    "This will be computationally heavy, considering we have several hundreds of taxa and sites in the alignment. Therefore, we will run the computation on the university 'CHEOPS' cluster.\n",
    "\n",
    "There are multiple steps involved:\n",
    "\n",
    "1. Creat an SSH connection with the cluster\n",
    "2. Upload the reference alignment and slurm script to the cluster.\n",
    "3. Run the slurm script on the cluster\n",
    "4. Retrieving data\n",
    "5. Close connection"
   ]
  },
  {
   "cell_type": "markdown",
   "id": "ad3ee3fc-073a-4971-a5a6-733b35b419ef",
   "metadata": {},
   "source": [
    "### Create SSH connection"
   ]
  },
  {
   "cell_type": "code",
   "execution_count": 14,
   "id": "d3e0a663-977b-425f-a558-3ed26a43d50e",
   "metadata": {},
   "outputs": [],
   "source": [
    "# Create an SSH client instance\n",
    "ssh_client = paramiko.SSHClient()\n",
    "\n",
    "# Automatically add the server's host key (this is needed since it's your first time connecting)\n",
    "ssh_client.set_missing_host_key_policy(paramiko.AutoAddPolicy())\n",
    "\n",
    "# Connect using your SSH key and username\n",
    "ssh_client.connect('cheops.rrz.uni-koeln.de', username=os.getenv('CHEOPS_USERNAME'), key_filename=os.getenv('ID_RSA_PATH'))"
   ]
  },
  {
   "cell_type": "code",
   "execution_count": 11,
   "id": "0540d369-6f4c-4944-a40e-978d0d1b517d",
   "metadata": {},
   "outputs": [
    {
     "name": "stdout",
     "output_type": "stream",
     "text": [
      "SSH connection is active!\n"
     ]
    }
   ],
   "source": [
    "# Check if the transport is active\n",
    "if ssh_client.get_transport() and ssh_client.get_transport().is_active():\n",
    "    print(\"SSH connection is active!\")\n",
    "else:\n",
    "    print(\"SSH connection is not active.\")"
   ]
  },
  {
   "cell_type": "markdown",
   "id": "7371fea7-e54b-4360-a4a4-44a9bd75fb46",
   "metadata": {},
   "source": [
    "## Uploading files to the cluster"
   ]
  },
  {
   "cell_type": "code",
   "execution_count": 12,
   "id": "17ce1e10-74d8-462a-829f-9f29346f4702",
   "metadata": {},
   "outputs": [],
   "source": [
    "# Variables\n",
    "alignment_masking = 'Moderate' # Loose, Moderate, or Strict\n",
    "alignment_name = f'reference_alignment_gblocks{alignment_masking}.fasta'\n",
    "local_reference_alignment_path = os.path.join(subset_align_dir, alignment_name)\n",
    "local_slurm_script_path = os.path.join(slurm_scripts_dir, 'compute_tree.slurm')\n",
    "remote_reference_alignment_path = os.path.join('/', 'home', 'lrajter', 'pacbio_diversity_assessment', 'alignments', 'pr2_subset', alignment_name)\n",
    "remote_slurm_script_path = os.path.join('/', 'home', 'lrajter', 'pacbio_diversity_assessment', 'slurm_scripts', 'compute_tree.slurm')\n",
    "\n",
    "# Establish SSH connection\n",
    "ssh_client = paramiko.SSHClient()\n",
    "ssh_client.set_missing_host_key_policy(paramiko.AutoAddPolicy())\n",
    "# ssh_client.connect('cheops.rrz.uni-koeln.de', username='lrajter', password=os.getenv('PASSWORD'))\n",
    "ssh_client.connect(os.getenv('CHEOPS_CLUSTER'), username=os.getenv('CHEOPS_USERNAME'), key_filename=os.getenv('ID_RSA_PATH'))\n",
    "\n",
    "# Use SFTP to transfer files\n",
    "sftp = ssh_client.open_sftp()\n",
    "sftp.put(local_reference_alignment_path, remote_reference_alignment_path)\n",
    "sftp.put(local_slurm_script_path, remote_slurm_script_path)\n",
    "sftp.close()"
   ]
  },
  {
   "cell_type": "markdown",
   "id": "953455af-2b32-46ce-aeef-314aed09100c",
   "metadata": {},
   "source": [
    "### Run the slurm script on the cluster"
   ]
  },
  {
   "cell_type": "code",
   "execution_count": 15,
   "id": "73c28921-3ef9-400e-99b9-20bb34d7ce0a",
   "metadata": {},
   "outputs": [
    {
     "name": "stdout",
     "output_type": "stream",
     "text": [
      "Output: Submitted batch job 18262093\n"
     ]
    },
    {
     "data": {
      "text/plain": [
       "'18262093'"
      ]
     },
     "execution_count": 15,
     "metadata": {},
     "output_type": "execute_result"
    }
   ],
   "source": [
    "masking_level = 'Moderate'\n",
    "slurm_script_path = os.path.join('/', 'home', 'lrajter', 'pacbio_diversity_assessment', 'slurm_scripts', 'compute_tree.slurm')\n",
    "ref_trees_path = os.path.join(raw_data, 'reference_trees', 'pr2_subset', f'gblocks{masking_level}')\n",
    "job_id_file_path = os.path.join(ref_trees_path, 'job_id.txt')\n",
    "\n",
    "submit_sbatch(ssh_client, slurm_script_path, job_id_file_path)"
   ]
  },
  {
   "cell_type": "markdown",
   "id": "3c5b4095-df25-44b3-8a07-4d51eab9c9bc",
   "metadata": {},
   "source": [
    "### Close the SSH connection"
   ]
  },
  {
   "cell_type": "code",
   "execution_count": null,
   "id": "36ac0d02-802f-408f-8f0e-7a62784b3799",
   "metadata": {},
   "outputs": [],
   "source": [
    "# Close the SSH connection\n",
    "ssh_client.close()"
   ]
  },
  {
   "cell_type": "markdown",
   "id": "57fb9e26-a6c6-4488-be9b-2f7025e9bcf4",
   "metadata": {},
   "source": [
    "### Check the status of the SLURM job remotely via SSH"
   ]
  },
  {
   "cell_type": "code",
   "execution_count": 16,
   "id": "7e5d3961-c49f-4465-93fe-1995f5d67057",
   "metadata": {},
   "outputs": [],
   "source": [
    "# Re-establish SSH Connection\n",
    "ssh_client = paramiko.SSHClient()\n",
    "ssh_client.set_missing_host_key_policy(paramiko.AutoAddPolicy())\n",
    "ssh_client.connect(os.getenv('CHEOPS_CLUSTER'), username=os.getenv('CHEOPS_USERNAME'), key_filename=os.getenv('ID_RSA_PATH'))"
   ]
  },
  {
   "cell_type": "code",
   "execution_count": 17,
   "id": "1313880d-702c-4073-84ca-cc4be7371129",
   "metadata": {},
   "outputs": [
    {
     "name": "stdout",
     "output_type": "stream",
     "text": [
      "18262093\n"
     ]
    }
   ],
   "source": [
    "# Retrieve the job number\n",
    "masking_level = 'Moderate'\n",
    "job_id_file = os.path.join(subset_reftree_dir, f'gblocks{masking_level}', 'job_id.txt')\n",
    "\n",
    "with open(job_id_file, 'r') as infile:\n",
    "    for line in infile:\n",
    "        job_id = line\n",
    "\n",
    "print(job_id)"
   ]
  },
  {
   "cell_type": "code",
   "execution_count": 18,
   "id": "885e6a5d-bb63-4e2a-b8c2-7858f07248a0",
   "metadata": {},
   "outputs": [
    {
     "name": "stdout",
     "output_type": "stream",
     "text": [
      "Output: JOBID PARTITION     NAME     USER ST       TIME  NODES NODELIST(REASON)\n",
      "          18262093   smp-rh7 compute_  lrajter PD       0:00      1 (Resources)\n"
     ]
    }
   ],
   "source": [
    "# Query Job Status:\n",
    "# Assuming you have the job ID saved in a variable named job_id\n",
    "command = f'squeue -j {job_id}'\n",
    "stdin, stdout, stderr = ssh_client.exec_command(command)\n",
    "\n",
    "output = stdout.read().decode().strip()\n",
    "error = stderr.read().decode().strip()\n",
    "\n",
    "if output:\n",
    "    print(\"Output:\", output)\n",
    "if error:\n",
    "    print(\"Error:\", error)"
   ]
  },
  {
   "cell_type": "code",
   "execution_count": 19,
   "id": "c69a0c76-8fa9-4321-bea0-b7ea365e1d60",
   "metadata": {},
   "outputs": [
    {
     "name": "stdout",
     "output_type": "stream",
     "text": [
      "Output: JobID         MaxVMSize  MaxVMSizeNode  MaxVMSizeTask  AveVMSize     MaxRSS MaxRSSNode MaxRSSTask     AveRSS MaxPages MaxPagesNode   MaxPagesTask   AvePages     MinCPU MinCPUNode MinCPUTask     AveCPU   NTasks AveCPUFreq ReqCPUFreqMin ReqCPUFreqMax ReqCPUFreqGov ConsumedEnergy  MaxDiskRead MaxDiskReadNode MaxDiskReadTask  AveDiskRead MaxDiskWrite MaxDiskWriteNode MaxDiskWriteTask AveDiskWrite TRESUsageInAve TRESUsageInMax TRESUsageInMaxNode TRESUsageInMaxTask TRESUsageInMin TRESUsageInMinNode TRESUsageInMinTask TRESUsageInTot TRESUsageOutAve TRESUsageOutMax TRESUsageOutMaxNode TRESUsageOutMaxTask TRESUsageOutMin TRESUsageOutMinNode TRESUsageOutMinTask TRESUsageOutTot \n",
      "------------ ---------- -------------- -------------- ---------- ---------- ---------- ---------- ---------- -------- ------------ -------------- ---------- ---------- ---------- ---------- ---------- -------- ---------- ------------- ------------- ------------- -------------- ------------ --------------- --------------- ------------ ------------ ---------------- ---------------- ------------ -------------- -------------- ------------------ ------------------ -------------- ------------------ ------------------ -------------- --------------- --------------- ------------------- ------------------- --------------- ------------------- ------------------- ---------------\n",
      "Error: sstat: error: No steps running for job 18262093\n"
     ]
    }
   ],
   "source": [
    "# Get More Detailed Information:\n",
    "command = f'sstat -j {job_id}'\n",
    "stdin, stdout, stderr = ssh_client.exec_command(command)\n",
    "\n",
    "output = stdout.read().decode().strip()\n",
    "error = stderr.read().decode().strip()\n",
    "\n",
    "if output:\n",
    "    print(\"Output:\", output)\n",
    "if error:\n",
    "    print(\"Error:\", error)"
   ]
  },
  {
   "cell_type": "code",
   "execution_count": 20,
   "id": "aea9eb69-8c9a-4c7b-b745-d45b137316b2",
   "metadata": {},
   "outputs": [
    {
     "name": "stdout",
     "output_type": "stream",
     "text": [
      "Output: JobId=18262093 JobName=compute_tree.slurm\n",
      "   UserId=lrajter(405397) GroupId=uniuser(666) MCS_label=N/A\n",
      "   Priority=7144 Nice=0 Account=unikoeln QOS=normal\n",
      "   JobState=PENDING Reason=Resources Dependency=(null)\n",
      "   Requeue=1 Restarts=0 BatchFlag=1 Reboot=0 ExitCode=0:0\n",
      "   RunTime=00:00:00 TimeLimit=10-00:00:00 TimeMin=N/A\n",
      "   SubmitTime=2023-10-27T20:23:05 EligibleTime=2023-10-27T20:23:05\n",
      "   AccrueTime=2023-10-27T20:23:05\n",
      "   StartTime=2023-10-28T14:39:59 EndTime=2023-11-07T13:39:59 Deadline=N/A\n",
      "   SuspendTime=None SecsPreSuspend=0 LastSchedEval=2023-10-27T20:25:47 Scheduler=Backfill:*\n",
      "   Partition=smp-rh7 AllocNode:Sid=cheops0:10131\n",
      "   ReqNodeList=(null) ExcNodeList=(null)\n",
      "   NodeList= SchedNodeList=cheops11708\n",
      "   NumNodes=1-1 NumCPUs=6 NumTasks=1 CPUs/Task=6 ReqB:S:C:T=0:0:*:*\n",
      "   TRES=cpu=6,mem=46G,node=1,billing=6\n",
      "   Socks/Node=* NtasksPerN:B:S:C=1:0:*:* CoreSpec=*\n",
      "   MinCPUsNode=6 MinMemoryNode=46G MinTmpDiskNode=0\n",
      "   Features=(null) DelayBoot=00:00:00\n",
      "   OverSubscribe=OK Contiguous=0 Licenses=(null) Network=(null)\n",
      "   Command=/home/lrajter/pacbio_diversity_assessment/slurm_scripts/compute_tree.slurm\n",
      "   WorkDir=/home/lrajter\n",
      "   Comment=ag-hess \n",
      "   StdErr=/home/lrajter/T2_Moderate_log_output_18262093.log\n",
      "   StdIn=/dev/null\n",
      "   StdOut=/home/lrajter/T2_Moderate_log_output_18262093.log\n",
      "   Power=\n",
      "   MailUser=lrajter@uni-koeln.de MailType=END\n"
     ]
    }
   ],
   "source": [
    "# Get Control Information:\n",
    "command = f'scontrol show job {job_id}'\n",
    "stdin, stdout, stderr = ssh_client.exec_command(command)\n",
    "\n",
    "output = stdout.read().decode().strip()\n",
    "error = stderr.read().decode().strip()\n",
    "\n",
    "if output:\n",
    "    print(\"Output:\", output)\n",
    "if error:\n",
    "    print(\"Error:\", error)"
   ]
  },
  {
   "cell_type": "code",
   "execution_count": 21,
   "id": "43cd905b-cb9e-4cb6-8d26-2bf167b3e41b",
   "metadata": {},
   "outputs": [],
   "source": [
    "# Close the SSH Connection:\n",
    "ssh_client.close()"
   ]
  },
  {
   "cell_type": "markdown",
   "id": "4a1e9a06-4b53-42f7-a3c8-c9b97bf4a726",
   "metadata": {},
   "source": [
    "## Transfering the output files back to the local machine"
   ]
  },
  {
   "cell_type": "markdown",
   "id": "080d131e-25d5-4b9c-8093-2f52bf446c38",
   "metadata": {},
   "source": [
    "### Re-establish SSH Connection"
   ]
  },
  {
   "cell_type": "code",
   "execution_count": 22,
   "id": "0c2e8e33-d46d-485f-a310-7640077fa20c",
   "metadata": {},
   "outputs": [],
   "source": [
    "ssh_client = paramiko.SSHClient()\n",
    "ssh_client.set_missing_host_key_policy(paramiko.AutoAddPolicy())\n",
    "ssh_client.connect(os.getenv('CHEOPS_CLUSTER'), username=os.getenv('CHEOPS_USERNAME'), key_filename=os.getenv('ID_RSA_PATH'))"
   ]
  },
  {
   "cell_type": "markdown",
   "id": "55f710bd-6e7f-4582-90f7-e4c3ff8fbf15",
   "metadata": {},
   "source": [
    "### Open an SFTP Session"
   ]
  },
  {
   "cell_type": "code",
   "execution_count": 23,
   "id": "ef79c0e1-fc34-48a5-bcba-68ca9955cab0",
   "metadata": {},
   "outputs": [],
   "source": [
    "# Start an SFTP session using the connected SSH client.\n",
    "sftp = ssh_client.open_sftp()"
   ]
  },
  {
   "cell_type": "markdown",
   "id": "a6b195a8-331e-4c17-b937-d94bcca75aba",
   "metadata": {},
   "source": [
    "### Download the Files"
   ]
  },
  {
   "cell_type": "code",
   "execution_count": 24,
   "id": "200d3a3b-a523-43f8-9104-baef7c6b09b0",
   "metadata": {},
   "outputs": [],
   "source": [
    "# Specify the remote file's path and the local path where you want to save the file.\n",
    "\n",
    "masking_level = 'Moderate'\n",
    "remote_ref_tree_dir = os.path.join('/', 'home', 'lrajter', 'pacbio_diversity_assessment', 'reference_trees', 'pr2_subset', f'gblocks{masking_level}')\n",
    "local_ref_tree_dir = os.path.join(raw_data, 'reference_trees', 'pr2_subset', f'gblocks{masking_level}')\n",
    "\n",
    "# Loop\n",
    "for filename in sftp.listdir(remote_ref_tree_dir):\n",
    "    sftp.get(os.path.join(remote_ref_tree_dir, filename), os.path.join(local_ref_tree_dir, filename))"
   ]
  },
  {
   "cell_type": "markdown",
   "id": "f72e9c21-01a8-45fc-8829-83dada50fd25",
   "metadata": {},
   "source": [
    "### Close connection"
   ]
  },
  {
   "cell_type": "code",
   "execution_count": 25,
   "id": "997e55af-a378-420f-983f-20a5413a4ca8",
   "metadata": {},
   "outputs": [],
   "source": [
    "sftp.close()\n",
    "ssh_client.close()"
   ]
  }
 ],
 "metadata": {
  "kernelspec": {
   "display_name": "Python 3 (ipykernel)",
   "language": "python",
   "name": "python3"
  },
  "language_info": {
   "codemirror_mode": {
    "name": "ipython",
    "version": 3
   },
   "file_extension": ".py",
   "mimetype": "text/x-python",
   "name": "python",
   "nbconvert_exporter": "python",
   "pygments_lexer": "ipython3",
   "version": "3.11.0"
  }
 },
 "nbformat": 4,
 "nbformat_minor": 5
}
