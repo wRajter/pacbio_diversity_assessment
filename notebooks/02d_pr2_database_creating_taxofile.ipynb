{
 "cells": [
  {
   "cell_type": "markdown",
   "id": "367862e0-f859-4434-8544-b6f34144c276",
   "metadata": {},
   "source": [
    "## Imports"
   ]
  },
  {
   "cell_type": "code",
   "execution_count": 1,
   "id": "8127461c-3ce9-47c2-832d-e1ccd0e5fb40",
   "metadata": {},
   "outputs": [],
   "source": [
    "import os\n",
    "import sys\n",
    "\n",
    "# Custom functions\n",
    "python_dir_path = os.path.join('..', 'scripts', 'python')\n",
    "sys.path.append(python_dir_path)\n",
    "from subset_pr2_database import transform_taxonomy, verify_id_names, compare_length"
   ]
  },
  {
   "cell_type": "markdown",
   "id": "79a2d376-a267-4c35-b862-3468d24f808c",
   "metadata": {},
   "source": [
    "## Variables"
   ]
  },
  {
   "cell_type": "code",
   "execution_count": 2,
   "id": "0e0d6657-d9be-4524-afd8-f1b113568cd7",
   "metadata": {},
   "outputs": [],
   "source": [
    "raw_data = os.path.join('..', 'raw_data')\n",
    "subset_align_dir = os.path.join(raw_data, 'reference_alignments', 'pr2_subset')"
   ]
  },
  {
   "cell_type": "markdown",
   "id": "7084222f-42fd-4478-a32e-3d444978a7c8",
   "metadata": {},
   "source": [
    "# Creating taxon file"
   ]
  },
  {
   "cell_type": "markdown",
   "id": "aff1d411-5175-4d19-bfbd-fac6b47168d4",
   "metadata": {},
   "source": [
    "This file is used to assign taxonomic paths to taxa (tips) of the reference tree. The format is as follows. Each line assigns a taxonomic path to one taxon, and contains two columns: the taxon label (ID) as it appears in the tree, followed by the semicolon-separated taxonomic path. The two columns are separated by a tab character.\n",
    "(More here: https://github.com/lczech/gappa/wiki/Subcommand:-assign)\n",
    "\n",
    "We will need this file for phylogenetic placement downstream GAPPA analyses.Bovidae"
   ]
  },
  {
   "cell_type": "code",
   "execution_count": null,
   "id": "a05b8531-0dbb-49ab-a1f7-3fe6358c4b5f",
   "metadata": {},
   "outputs": [],
   "source": [
    "Example:\n",
    "Seal    Eukaryota;Animalia;Chordata;Mammalia;Carnivora;Phocoiae\n",
    "Whale   Eukaryota;Animalia;Chordata;Mammalia;Cetartiodactyla;\n",
    "Mouse   Eukaryota;Animalia;Chordata;Mammalia;Rodentia;Muridae\n",
    "Human   Eukaryota;Animalia;Chordata;Mammalia;Primates;Homonidae\n",
    "Chicken Eukaryota;Animalia;Chordata;Amphibia;Galliformes;Phasianidae\n",
    "Frog    Eukaryota;Animalia;Chordata;Amphibia;Anura;Dendrobatidae\n",
    "Loach   Eukaryota;Animalia;Chordata;Amphibia;Anura;Rhacophoridae\n",
    "Cow     Eukaryota;Animalia;Chordata;Mammalia;Artiodactyla;Bovidae"
   ]
  },
  {
   "cell_type": "markdown",
   "id": "b7f3c708-ca8a-40f0-94d4-a232afee92c8",
   "metadata": {},
   "source": [
    "We have the extracted sequence IDs in 'sequence_full_names.txt' file. These IDs contains the taxon names and their taxopaths, so we just need to reformat them into a correct format (based on the example above)."
   ]
  },
  {
   "cell_type": "markdown",
   "id": "0e5f1dc4-4d2a-487b-aa02-96e20a2b2166",
   "metadata": {},
   "source": [
    "## Compare taxon IDs in the reference alignment and 'sequence_full_names.txt' file"
   ]
  },
  {
   "cell_type": "code",
   "execution_count": null,
   "id": "428ffa66-299b-4377-9587-b1efe50043a5",
   "metadata": {},
   "outputs": [],
   "source": [
    "refernce_alignment_path = os.path.join(subset_align_dir, 'reference_alignment_gblocksStrict.fasta')\n",
    "\n",
    "with open(refernce_alignment_path, 'r') as infile:\n",
    "    print(f\"\\n{infile.readline()}\")"
   ]
  },
  {
   "cell_type": "code",
   "execution_count": 3,
   "id": "5eeddb0a-18eb-454d-8626-4f43ef1ebdc5",
   "metadata": {},
   "outputs": [
    {
     "name": "stdout",
     "output_type": "stream",
     "text": [
      "\n",
      ">AB353770.1.1740_U\n",
      "\n"
     ]
    }
   ],
   "source": [
    "# Reference alignment\n",
    "ref_align_path = os.path.join(subset_align_dir, 'reference_alignment_gblocksStrict.fasta')\n",
    "\n",
    "with open(ref_align_path, 'r') as infile:\n",
    "    print(f\"\\n{infile.readline()}\")"
   ]
  },
  {
   "cell_type": "code",
   "execution_count": 4,
   "id": "6faf1412-a4e3-4100-b188-84520b08432b",
   "metadata": {},
   "outputs": [
    {
     "name": "stdout",
     "output_type": "stream",
     "text": [
      "\n",
      "AB353770.1.1740_U;tax=k:Eukaryota,d:TSAR,p:Alveolata-Dinoflagellata,c:Dinophyceae,o:Peridiniales,f:Kryptoperidiniaceae,g:Unruhdinium,s:Unruhdinium_kevei\n",
      "\n"
     ]
    }
   ],
   "source": [
    "# sequence_full_names.txt file\n",
    "full_names_path = os.path.join(subset_align_dir, 'sequence_full_names.txt')\n",
    "\n",
    "with open(full_names_path, 'r') as infile:\n",
    "    print(f\"\\n{infile.readline()}\")"
   ]
  },
  {
   "cell_type": "markdown",
   "id": "27dc93e6-964f-4e3f-b9b1-79e100145d3a",
   "metadata": {},
   "source": [
    "So, we can see that the taxon names in the reference alignment correspond to the beggining of the names in the 'sequence_full_names.txt' file:\n",
    "\n",
    ">AB353770.1.1740_U\n",
    "\n",
    ">AB353770.1.1740_U;tax=...\n",
    "\n",
    "Based on this observation, we can just split the taxon IDs from the taxopath by tabulator in the 'sequence_full_names.txt' file.\n",
    "After this, we also need to adjust the taxopaths so they will match the pattern/format of the taxon file (see example above). For that, we need to do the following:\n",
    "1. strip *;tax=*\n",
    "2. change *,* to *;*\n",
    "3. delete the *k:*, *d:*, *p:*, and so on"
   ]
  },
  {
   "cell_type": "markdown",
   "id": "f6e1fcb6-0855-4e6b-b40e-979937385fdb",
   "metadata": {},
   "source": [
    "## Create taxon file"
   ]
  },
  {
   "cell_type": "code",
   "execution_count": 5,
   "id": "3eea7cbe-c0f4-4324-90d5-d4ae7fd52d5f",
   "metadata": {},
   "outputs": [],
   "source": [
    "# Read from the \"full names\" file and write to a new \"taxon\" file\n",
    "full_names_path = os.path.join(subset_align_dir, 'sequence_full_names.txt')\n",
    "taxon_file_path = os.path.join(subset_align_dir, 'taxon_file.txt')\n",
    "\n",
    "with open(full_names_path, 'r') as infile, open(taxon_file_path, 'w') as outfile:\n",
    "    for line in infile:\n",
    "        # Split the line into taxon ID and taxonomy based on ';tax='\n",
    "        taxon_id, taxonomy = line.strip().split(';tax=', 1)\n",
    "        transformed_taxonomy = transform_taxonomy(taxonomy)\n",
    "        outfile.write(f\"{taxon_id}\\t{transformed_taxonomy}\\n\")"
   ]
  },
  {
   "cell_type": "markdown",
   "id": "f0ee34e2-090b-4e27-916c-efd7f8e3c0e1",
   "metadata": {},
   "source": [
    "## Verification of the taxon file"
   ]
  },
  {
   "cell_type": "markdown",
   "id": "3eb74ee0-7630-4bb9-bcdf-0220704f2c75",
   "metadata": {},
   "source": [
    "### Verifing taxon depth"
   ]
  },
  {
   "cell_type": "markdown",
   "id": "79718e7f-9e12-4e3c-ac38-063e6ce0ad4d",
   "metadata": {},
   "source": [
    "I want to ensure consistency in the taxonomic depth across all entries in the taxon file. We can achieve this by counting the number of taxa in each taxopath and then checking if this number is consistent across all lines in the taxon file."
   ]
  },
  {
   "cell_type": "code",
   "execution_count": 6,
   "id": "c43d8d0f-d1f9-4af9-bac9-59c5da8c4c2c",
   "metadata": {},
   "outputs": [
    {
     "name": "stdout",
     "output_type": "stream",
     "text": [
      "All sequences have the same number of taxa in taxopath: 8.\n"
     ]
    }
   ],
   "source": [
    "taxon_file_path = os.path.join(subset_align_dir, 'taxon_file.txt')\n",
    "\n",
    "# Read the taxon file and store the number of taxa for each entry in a set\n",
    "taxa_counts = set()\n",
    "\n",
    "with open(taxon_file_path, 'r') as file:\n",
    "    for line in file:\n",
    "        _, taxopath = line.strip().split(\"\\t\")\n",
    "        taxa_count = len(taxopath.split(\";\"))\n",
    "        taxa_counts.add(taxa_count)\n",
    "\n",
    "# Check the consistency\n",
    "if len(taxa_counts) == 1:\n",
    "    print(f\"All sequences have the same number of taxa in taxopath: {taxa_counts.pop()}.\")\n",
    "else:\n",
    "    print(f\"Inconsistent number of taxa in taxopath. Found counts: {', '.join(map(str, sorted(taxa_counts)))}.\")\n"
   ]
  },
  {
   "cell_type": "markdown",
   "id": "0680689f-bdc1-4f2a-abf3-1000d20cceda",
   "metadata": {},
   "source": [
    "### Verifing the ID names "
   ]
  },
  {
   "cell_type": "code",
   "execution_count": 7,
   "id": "20c46aa0-bb67-47f8-9935-31835842e67f",
   "metadata": {},
   "outputs": [
    {
     "name": "stdout",
     "output_type": "stream",
     "text": [
      "reference_alignment_gblocksStrict.fasta:\n",
      "The ID names in the taxon file match the ID names in the reference alignment.\n",
      "\n",
      "\n",
      "reference_alignment_gblocksLoose.fasta:\n",
      "The ID names in the taxon file match the ID names in the reference alignment.\n",
      "\n",
      "\n",
      "reference_alignment_gblocksModerate.fasta:\n",
      "The ID names in the taxon file match the ID names in the reference alignment.\n",
      "\n",
      "\n"
     ]
    }
   ],
   "source": [
    "ref_align_names = [file_ for file_ in os.listdir(subset_align_dir) if 'reference_alignment_gblocks' in file_]\n",
    "taxon_file_path = os.path.join(subset_align_dir, 'taxon_file.txt')\n",
    "\n",
    "for ref_align in ref_align_names:\n",
    "    ref_align_path = os.path.join(subset_align_dir, ref_align)\n",
    "    print(f'{ref_align}:')\n",
    "    verify_id_names(taxon_file_path = taxon_file_path,\n",
    "                    ref_alignment_path = ref_align_path)\n",
    "    print('\\n')"
   ]
  },
  {
   "cell_type": "markdown",
   "id": "853d7c64-d2d3-417a-b509-9aeb60c6de33",
   "metadata": {},
   "source": [
    "### Verifing the length of the sequences/names in the reference alignment and taxon file"
   ]
  },
  {
   "cell_type": "code",
   "execution_count": 8,
   "id": "29707c16-c246-4f0d-b7bf-0aef3d1ff474",
   "metadata": {},
   "outputs": [
    {
     "name": "stdout",
     "output_type": "stream",
     "text": [
      "reference_alignment_gblocksStrict.fasta:\n",
      "Both the taxon file and the reference alignment contain 1371 sequences/ID names.\n",
      "\n",
      "\n",
      "reference_alignment_gblocksLoose.fasta:\n",
      "Both the taxon file and the reference alignment contain 1371 sequences/ID names.\n",
      "\n",
      "\n",
      "reference_alignment_gblocksModerate.fasta:\n",
      "Both the taxon file and the reference alignment contain 1371 sequences/ID names.\n",
      "\n",
      "\n"
     ]
    }
   ],
   "source": [
    "ref_align_names = [file_ for file_ in os.listdir(subset_align_dir) if 'reference_alignment_gblocks' in file_]\n",
    "taxon_file_path = os.path.join(subset_align_dir, 'taxon_file.txt')\n",
    "\n",
    "for ref_align in ref_align_names:\n",
    "    ref_align_path = os.path.join(subset_align_dir, ref_align)\n",
    "    num_taxon_ids, num_ref_seqs = compare_length(taxon_file_path = taxon_file_path,\n",
    "                                                 ref_alignment_path = ref_align_path)\n",
    "    print(f'{ref_align}:')\n",
    "    if num_taxon_ids == num_ref_seqs:\n",
    "        print(f\"Both the taxon file and the reference alignment contain {num_taxon_ids} sequences/ID names.\")\n",
    "    else:\n",
    "        print(f\"The taxon file contains {num_taxon_ids} sequences/ID names, while the reference alignment contains {num_ref_seqs} sequences/ID names.\")\n",
    "    print('\\n')"
   ]
  },
  {
   "cell_type": "code",
   "execution_count": null,
   "id": "6523bb7a-8a6f-4b4d-87b4-7bcc165ea621",
   "metadata": {},
   "outputs": [],
   "source": []
  }
 ],
 "metadata": {
  "kernelspec": {
   "display_name": "Python 3 (ipykernel)",
   "language": "python",
   "name": "python3"
  },
  "language_info": {
   "codemirror_mode": {
    "name": "ipython",
    "version": 3
   },
   "file_extension": ".py",
   "mimetype": "text/x-python",
   "name": "python",
   "nbconvert_exporter": "python",
   "pygments_lexer": "ipython3",
   "version": "3.11.0"
  }
 },
 "nbformat": 4,
 "nbformat_minor": 5
}
