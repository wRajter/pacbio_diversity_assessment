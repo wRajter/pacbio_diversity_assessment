{
 "cells": [
  {
   "cell_type": "markdown",
   "id": "1a80d823-3eb7-4ba6-9454-f175145c896b",
   "metadata": {},
   "source": [
    "## Libraries"
   ]
  },
  {
   "cell_type": "code",
   "execution_count": 10,
   "id": "8c76f07d-daa7-4062-9feb-9bfb9787bc1a",
   "metadata": {},
   "outputs": [],
   "source": [
    "import os\n",
    "import sys\n",
    "\n",
    "# Custom functions\n",
    "python_dir_path = os.path.join('..', 'scripts', 'python')\n",
    "sys.path.append(python_dir_path)\n",
    "from subset_pr2_database import run_mafft, alignment_stats"
   ]
  },
  {
   "cell_type": "markdown",
   "id": "3b696027-78d8-4e52-a905-2088f96a8170",
   "metadata": {},
   "source": [
    "## Variables"
   ]
  },
  {
   "cell_type": "code",
   "execution_count": 4,
   "id": "2e1e285d-59a9-4b8f-bece-6d1330ab69fd",
   "metadata": {},
   "outputs": [],
   "source": [
    "project = 'Suthaus_2022'\n",
    "marker = 'Full18S'\n",
    "sim = 'sim90'\n",
    "denoise_method = 'RAD'\n",
    "raw_data = os.path.join('..', 'raw_data')\n",
    "subset_align_dir = os.path.join(raw_data, 'reference_alignments', 'pr2_subset')"
   ]
  },
  {
   "cell_type": "markdown",
   "id": "0d31502b-1759-4f96-a726-a6ac4b1cbae5",
   "metadata": {},
   "source": [
    "# MAFFT Aligning"
   ]
  },
  {
   "cell_type": "markdown",
   "id": "11bf9e12-1065-4b9e-831e-ef4d98d4b143",
   "metadata": {},
   "source": [
    "Given the diversity and size of our dataset (around 1,600 sequences of 18S rRNA), we would benefit from some level of iterative refinement, so FFT-NS-2 might be a good choice, as FFT-NS-2 is mostly used for moderately large datasets.\n",
    "\n",
    "\n",
    "**FFT-NS-2:**\n",
    "- **Speed:** It's faster than most iterative methods but slower than FFT-NS-1.\n",
    "- **Method:** After creating the initial progressive alignment, it conducts tree-dependent iterative refinement for the final alignment. This means it tries to make the alignment more accurate by optimizing it against a guide tree.\n",
    "- **Usage Scenario:** Provides a balance between speed and accuracy. It's useful when you need a relatively quick alignment, but you want it to be more accurate than what FFT-NS-1 would provide."
   ]
  },
  {
   "cell_type": "code",
   "execution_count": 8,
   "id": "8547ce1b-e9f6-4ddd-97be-f201b7be1593",
   "metadata": {},
   "outputs": [
    {
     "name": "stdout",
     "output_type": "stream",
     "text": [
      "Alignment was saved to: ../raw_data/reference_alignments/pr2_subset/pr2_version_5.0.0_SSU_UTAX_euknucl_subset_mafft.fasta\n",
      "Log file was saved to: ../raw_data/reference_alignments/pr2_subset/pr2_version_5.0.0_SSU_UTAX_euknucl_subset_mafft.log\n"
     ]
    },
    {
     "data": {
      "text/plain": [
       "0"
      ]
     },
     "execution_count": 8,
     "metadata": {},
     "output_type": "execute_result"
    }
   ],
   "source": [
    "# Run MAFFT alignment on the input file using the FFT-NS-2 strategy.\n",
    "\n",
    "# Output and input paths\n",
    "input_file_path = os.path.join(subset_align_dir, 'pr2_version_5.0.0_SSU_UTAX_euknucl_subset.fasta')\n",
    "output_file_path = os.path.join(subset_align_dir, 'pr2_version_5.0.0_SSU_UTAX_euknucl_subset_mafft.fasta')\n",
    "log_file_path =  os.path.join(subset_align_dir, 'pr2_version_5.0.0_SSU_UTAX_euknucl_subset_mafft.log')\n",
    "\n",
    "# Run MAFFT\n",
    "run_mafft(input_file = input_file_path, \n",
    "          output_file = output_file_path, \n",
    "          log_file = log_file_path)"
   ]
  },
  {
   "cell_type": "code",
   "execution_count": 11,
   "id": "9602b565-d654-4a3b-8791-890fec54c78c",
   "metadata": {},
   "outputs": [
    {
     "name": "stdout",
     "output_type": "stream",
     "text": [
      "Number of sequences: 1371\n",
      "Alignment length: 11943\n",
      "Average number of gaps per sequence: 10217.93\n",
      "Percentage of gaps across the sequences: 85.56%\n",
      "Average percentage identity: 94.98%\n"
     ]
    }
   ],
   "source": [
    "# Checking some basic statistics about our MAFFT alignment\n",
    "mafft_alignment = os.path.join(subset_align_dir, 'pr2_version_5.0.0_SSU_UTAX_euknucl_subset_mafft.fasta')\n",
    "\n",
    "num_sequences, alignment_length, average_gaps, percentage_gaps, percentage_identity = alignment_stats(alignment_file = mafft_alignment)\n",
    "print(f\"Number of sequences: {num_sequences}\")\n",
    "print(f\"Alignment length: {alignment_length}\")\n",
    "print(f\"Average number of gaps per sequence: {average_gaps:.2f}\")\n",
    "print(f\"Percentage of gaps across the sequences: {percentage_gaps:.2f}%\")\n",
    "print(f\"Average percentage identity: {percentage_identity:.2f}%\")"
   ]
  },
  {
   "cell_type": "code",
   "execution_count": null,
   "id": "e047018c-9834-48ae-8461-83d493b9bc1b",
   "metadata": {},
   "outputs": [],
   "source": []
  },
  {
   "cell_type": "code",
   "execution_count": null,
   "id": "7b5702de-1ac8-48f1-addf-c5fd35194e1f",
   "metadata": {},
   "outputs": [],
   "source": []
  },
  {
   "cell_type": "code",
   "execution_count": null,
   "id": "71a7f098-33e4-4ffe-af6f-7168ebcab268",
   "metadata": {},
   "outputs": [],
   "source": []
  }
 ],
 "metadata": {
  "kernelspec": {
   "display_name": "Python 3 (ipykernel)",
   "language": "python",
   "name": "python3"
  },
  "language_info": {
   "codemirror_mode": {
    "name": "ipython",
    "version": 3
   },
   "file_extension": ".py",
   "mimetype": "text/x-python",
   "name": "python",
   "nbconvert_exporter": "python",
   "pygments_lexer": "ipython3",
   "version": "3.11.0"
  }
 },
 "nbformat": 4,
 "nbformat_minor": 5
}
